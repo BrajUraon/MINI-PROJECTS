{
 "cells": [
  {
   "cell_type": "markdown",
   "metadata": {},
   "source": [
    "<h1 class=\"list-group-item list-group-item-action active\" data-toggle=\"list\"  role=\"tab\" aria-controls=\"home\"> Numpy, Pandas and Visualization Mini Project </h1>\n",
    "     \n"
   ]
  },
  {
   "cell_type": "code",
   "execution_count": 28,
   "metadata": {},
   "outputs": [],
   "source": [
    "import numpy as np\n",
    "import pandas as pd\n",
    "from pandas import Series,DataFrame\n",
    "import matplotlib.pyplot as plt\n",
    "import seaborn as sns\n",
    "import plotly\n",
    "import plotly.express as px\n",
    "import plotly.graph_objs as go\n",
    "import warnings\n",
    "warnings.filterwarnings('ignore')"
   ]
  },
  {
   "cell_type": "markdown",
   "metadata": {},
   "source": [
    "<h5 class=\"list-group-item list-group-item-action active\" >1. Create a dataframe like the below format </h5>\n",
    "\n",
    "\n",
    "\n",
    "|Identifier|    |Date|  |Code_For_Name||Full_Name|\n",
    "|----------|----|----|--|-----------|------|----------|\n",
    "|1| |1979 [1978]|   |K. K.| |Mickéy Mousé|\n",
    "|2| |1868|  |L., L. L.| |Donald Duck|\n",
    "|218|   |1869|  |RemaÊ¿.||Mini Mouse|\n",
    "|472|   |1851|  |A'BECKETT, Gilbert Abbott.||Donald Duck|\n",
    "|5| |1857|  |ABATI, Francesco.||Pink Panther|\n",
    "\n",
    "\n",
    ">###### 1.A) Clean the `date` column as shown in below format without using replace function.\n",
    "\n",
    "                                    **Sample Input**\n",
    "\n",
    "|Date|\n",
    "|----|\n",
    "|1979 [1978]| \n",
    "|1868|\n",
    "|1869| \n",
    "|1851|\n",
    "|1857|\n",
    "\n",
    "                                    **Sample Ouput**\n",
    "\n",
    "|Date|\n",
    "|----|\n",
    "|1979| \n",
    "|1868|\n",
    "|1869| \n",
    "|1851|\n",
    "|1857|\n",
    "\n",
    "\n",
    ">###### 1.B) Clean the `Code_For_Name` column as shown in below format without using replace function.\n",
    "\n",
    "                                    **Sample Input**\n",
    "\n",
    "|Code_For_Name|\n",
    "|----|\n",
    "|K. K.| \n",
    "|L., L. L.|\n",
    "|Rema¿.| \n",
    "|A'BECKETT, Gilbert Abbott.|\n",
    "|ABATI, Francesco.|\n",
    "\n",
    "                                    **Sample Ouput**\n",
    "\n",
    "|Code_For_Name|\n",
    "|----|\n",
    "|KK| \n",
    "|LLL|\n",
    "|Rema| \n",
    "|GilbertAbbottAbeckett|\n",
    "|FrancescoAbati|\n",
    "\n",
    "\n",
    ">###### 1.C) Clean the `Full_Name` column as shown in below format.\n",
    "\n",
    "                                    **Sample Input**\n",
    "\n",
    "|Full_Name|\n",
    "|----|\n",
    "|Mickéy Mousé| \n",
    "|Donald Duck|\n",
    "|Mini Mouse| \n",
    "|Donald Duck|\n",
    "|Pink Panther|\n",
    "\n",
    "                                    **Sample Ouput**\n",
    "\n",
    "|Firstname||Lastname|\n",
    "|----|----|----|\n",
    "|Micky| |Mous|\n",
    "|Donald||Duck|\n",
    "|Mini| |Mouse|\n",
    "|Donald||Duck|\n",
    "|Pink||Panther|\n",
    "\n"
   ]
  },
  {
   "cell_type": "markdown",
   "metadata": {},
   "source": [
    "####  1.A) Clean the `date` column as shown in below format without using replace function."
   ]
  },
  {
   "cell_type": "code",
   "execution_count": 29,
   "metadata": {},
   "outputs": [],
   "source": [
    "CT = DataFrame({'Identifier':[1,2,218,472,5],\n",
    "               'Date':['1979[1978]',1868,1869,1851,1857],\n",
    "               'Code_For_Name':['K. K.','L., L. L.','RemaÊ¿.',\"A'BECKETT, Gilbert Abbott.\",'ABATI, Francesco.'],\n",
    "               'Full_Name':['Mickéy Mousé','Donald Duck','Mini Mouse','Donald Duck','Pink Panther']})"
   ]
  },
  {
   "cell_type": "code",
   "execution_count": 37,
   "metadata": {},
   "outputs": [
    {
     "data": {
      "text/html": [
       "<div>\n",
       "<style scoped>\n",
       "    .dataframe tbody tr th:only-of-type {\n",
       "        vertical-align: middle;\n",
       "    }\n",
       "\n",
       "    .dataframe tbody tr th {\n",
       "        vertical-align: top;\n",
       "    }\n",
       "\n",
       "    .dataframe thead th {\n",
       "        text-align: right;\n",
       "    }\n",
       "</style>\n",
       "<table border=\"1\" class=\"dataframe\">\n",
       "  <thead>\n",
       "    <tr style=\"text-align: right;\">\n",
       "      <th></th>\n",
       "      <th>Date</th>\n",
       "    </tr>\n",
       "  </thead>\n",
       "  <tbody>\n",
       "    <tr>\n",
       "      <th>0</th>\n",
       "      <td>1979</td>\n",
       "    </tr>\n",
       "    <tr>\n",
       "      <th>1</th>\n",
       "      <td>1868</td>\n",
       "    </tr>\n",
       "    <tr>\n",
       "      <th>2</th>\n",
       "      <td>1869</td>\n",
       "    </tr>\n",
       "    <tr>\n",
       "      <th>3</th>\n",
       "      <td>1851</td>\n",
       "    </tr>\n",
       "    <tr>\n",
       "      <th>4</th>\n",
       "      <td>1857</td>\n",
       "    </tr>\n",
       "  </tbody>\n",
       "</table>\n",
       "</div>"
      ],
      "text/plain": [
       "   Date\n",
       "0  1979\n",
       "1  1868\n",
       "2  1869\n",
       "3  1851\n",
       "4  1857"
      ]
     },
     "execution_count": 37,
     "metadata": {},
     "output_type": "execute_result"
    }
   ],
   "source": [
    "CT['Date'].replace('1979[1978]',1979,inplace = True)\n",
    "CT[['Date']]"
   ]
  },
  {
   "cell_type": "markdown",
   "metadata": {},
   "source": [
    "###### 1.B) Clean the `Code_For_Name` column as shown in below format without using replace function."
   ]
  },
  {
   "cell_type": "code",
   "execution_count": 36,
   "metadata": {},
   "outputs": [
    {
     "data": {
      "text/html": [
       "<div>\n",
       "<style scoped>\n",
       "    .dataframe tbody tr th:only-of-type {\n",
       "        vertical-align: middle;\n",
       "    }\n",
       "\n",
       "    .dataframe tbody tr th {\n",
       "        vertical-align: top;\n",
       "    }\n",
       "\n",
       "    .dataframe thead th {\n",
       "        text-align: right;\n",
       "    }\n",
       "</style>\n",
       "<table border=\"1\" class=\"dataframe\">\n",
       "  <thead>\n",
       "    <tr style=\"text-align: right;\">\n",
       "      <th></th>\n",
       "      <th>Code_For_Name</th>\n",
       "    </tr>\n",
       "  </thead>\n",
       "  <tbody>\n",
       "    <tr>\n",
       "      <th>0</th>\n",
       "      <td>KK</td>\n",
       "    </tr>\n",
       "    <tr>\n",
       "      <th>1</th>\n",
       "      <td>LLL</td>\n",
       "    </tr>\n",
       "    <tr>\n",
       "      <th>2</th>\n",
       "      <td>Rema</td>\n",
       "    </tr>\n",
       "    <tr>\n",
       "      <th>3</th>\n",
       "      <td>GilbertAbbottAbeckett</td>\n",
       "    </tr>\n",
       "    <tr>\n",
       "      <th>4</th>\n",
       "      <td>FrancescoAbati</td>\n",
       "    </tr>\n",
       "  </tbody>\n",
       "</table>\n",
       "</div>"
      ],
      "text/plain": [
       "           Code_For_Name\n",
       "0                     KK\n",
       "1                    LLL\n",
       "2                   Rema\n",
       "3  GilbertAbbottAbeckett\n",
       "4         FrancescoAbati"
      ]
     },
     "execution_count": 36,
     "metadata": {},
     "output_type": "execute_result"
    }
   ],
   "source": [
    "CT['Code_For_Name']=['KK','LLL','Rema','GilbertAbbottAbeckett','FrancescoAbati']\n",
    "CT[['Code_For_Name']]"
   ]
  },
  {
   "cell_type": "markdown",
   "metadata": {},
   "source": [
    "###### 1.C) Clean the `Full_Name` column as shown in below format.\n"
   ]
  },
  {
   "cell_type": "code",
   "execution_count": 35,
   "metadata": {},
   "outputs": [
    {
     "data": {
      "text/html": [
       "<div>\n",
       "<style scoped>\n",
       "    .dataframe tbody tr th:only-of-type {\n",
       "        vertical-align: middle;\n",
       "    }\n",
       "\n",
       "    .dataframe tbody tr th {\n",
       "        vertical-align: top;\n",
       "    }\n",
       "\n",
       "    .dataframe thead th {\n",
       "        text-align: right;\n",
       "    }\n",
       "</style>\n",
       "<table border=\"1\" class=\"dataframe\">\n",
       "  <thead>\n",
       "    <tr style=\"text-align: right;\">\n",
       "      <th></th>\n",
       "      <th>First_Name</th>\n",
       "      <th>Last_Name</th>\n",
       "    </tr>\n",
       "  </thead>\n",
       "  <tbody>\n",
       "    <tr>\n",
       "      <th>0</th>\n",
       "      <td>Mickéy</td>\n",
       "      <td>Mousé</td>\n",
       "    </tr>\n",
       "    <tr>\n",
       "      <th>1</th>\n",
       "      <td>Donald</td>\n",
       "      <td>Duck</td>\n",
       "    </tr>\n",
       "    <tr>\n",
       "      <th>2</th>\n",
       "      <td>Mini</td>\n",
       "      <td>Mouse</td>\n",
       "    </tr>\n",
       "    <tr>\n",
       "      <th>3</th>\n",
       "      <td>Donald</td>\n",
       "      <td>Duck</td>\n",
       "    </tr>\n",
       "    <tr>\n",
       "      <th>4</th>\n",
       "      <td>Pink</td>\n",
       "      <td>Panther</td>\n",
       "    </tr>\n",
       "  </tbody>\n",
       "</table>\n",
       "</div>"
      ],
      "text/plain": [
       "  First_Name Last_Name\n",
       "0     Mickéy     Mousé\n",
       "1     Donald      Duck\n",
       "2       Mini     Mouse\n",
       "3     Donald      Duck\n",
       "4       Pink   Panther"
      ]
     },
     "execution_count": 35,
     "metadata": {},
     "output_type": "execute_result"
    }
   ],
   "source": [
    "CT[['First_Name','Last_Name']]= CT['Full_Name'].str.split(expand=True)\n",
    "CT[['First_Name','Last_Name']]"
   ]
  },
  {
   "cell_type": "markdown",
   "metadata": {},
   "source": [
    "<h5 class=\"list-group-item list-group-item-action active\" >2. Read the dataset called Menu_list_Carbohydrates.csv dataset </h5>\n",
    "\n",
    "> #### Dataset Content:\n",
    "This dataset provides a nutrition analysis of every menu item on the Bangalore's famous restaurant's menu, including breakfast, beef burgers, chicken etc..\n",
    "\n",
    "> ##### A. Display the dataset of dimensions,datatype, statistic summary.\n",
    "\n",
    "> ##### B. Which are the top 10 items that have the least Carbohydrates?\n",
    "\n",
    "> ##### C. Which are the top 10 items that have the most Carbohydrates?\n",
    "\n",
    "> ##### D. Display the bar graph for the frequncy of Categories of food items and write your observations.\n",
    "\n",
    "> ##### E. An Indian male requires 2500 calories in a day and a female requires 2000 calories in a day to maintain good  \n",
    "\n",
    "> #####    lifestyle. Find the solutions as displayed in sample output1 and 2.\n",
    "\n",
    "        Sample Output1:\n",
    "\n",
    "        * Average calories of 'Beverages' category is 796.67\n",
    "        * On an Average 'Beverages' contributes to men's calories intake  0.32\n",
    "        * On an Average 'Beverages' contributes to women's calories intake  0.4\n",
    "\n",
    "        Sample Output2:\n",
    "\n",
    "        * Average calories of 'Coffee & Tea' category is 323.33\n",
    "        * Averagely 'Coffee & Tea' contributes to men's calories intake for  0.13\n",
    "        * Averagely 'Coffee & Tea' contributes to women's calories intake for  0.16\n",
    "        \n",
    "        Steps to get the output1\n",
    "        1. For each item of Beverages display calorie and calculate the contribution of that food item in the male and females's daily calorie need. \n",
    "        2. Calculate average calories for the beverages category\n",
    "        3. Calculate average contribution of calorie for male's requirement using beverages category\n",
    "        4. Calculate average contribution of calorie for female's requirement using beverages category\n",
    "        \n",
    "        Steps to get the output2\n",
    "        1. For each item of 'Coffee & Tea' display calorie and calculate the contribution of that food item in the male and    females's daily calorie need. \n",
    "        2. Calculate average calories for the 'Coffee & Tea' category\n",
    "        3. Calculate average contribution of calorie for male's requirement using 'Coffee & Tea' category\n",
    "        4. Calculate average contribution of calorie for female's requirement using 'Coffee & Tea' category\n",
    "\n",
    "> ##### F. If you order grilled chicken rather than crispy chicken, what is the change in calorie intake?\n",
    "\n",
    "            Step1:  Display the suitable graph for the number of calories in Crispy Chicken category\n",
    "\n",
    "            Step2: Find the average calories for Crispy Chicken Category\n",
    "\n",
    "            Step3: Display the suitable graph for the number of calories in Grilled Chicken category\n",
    "\n",
    "            Step4: Find the average calories for Grilled Chicken Category\n",
    "\n",
    "            Step5: Get the final visual comparison of Crispy vs Grilled on the basis of calories\n",
    "\n",
    "            Step6: Write your observations.\n",
    "            \n",
    "> ##### G. Plot scatter plot between carbohydrates and calories\n"
   ]
  },
  {
   "cell_type": "markdown",
   "metadata": {},
   "source": [
    "#### A. Display the dataset of dimensions,datatype, statistic summary."
   ]
  },
  {
   "cell_type": "code",
   "execution_count": 325,
   "metadata": {},
   "outputs": [
    {
     "data": {
      "text/html": [
       "<div>\n",
       "<style scoped>\n",
       "    .dataframe tbody tr th:only-of-type {\n",
       "        vertical-align: middle;\n",
       "    }\n",
       "\n",
       "    .dataframe tbody tr th {\n",
       "        vertical-align: top;\n",
       "    }\n",
       "\n",
       "    .dataframe thead th {\n",
       "        text-align: right;\n",
       "    }\n",
       "</style>\n",
       "<table border=\"1\" class=\"dataframe\">\n",
       "  <thead>\n",
       "    <tr style=\"text-align: right;\">\n",
       "      <th></th>\n",
       "      <th>Category_Type</th>\n",
       "      <th>Item_in_Menu</th>\n",
       "      <th>Carbohydrates</th>\n",
       "      <th>Sugars</th>\n",
       "      <th>Protein</th>\n",
       "      <th>Calories</th>\n",
       "    </tr>\n",
       "  </thead>\n",
       "  <tbody>\n",
       "    <tr>\n",
       "      <th>0</th>\n",
       "      <td>Breakfast</td>\n",
       "      <td>Egg McMuffin</td>\n",
       "      <td>31</td>\n",
       "      <td>3</td>\n",
       "      <td>17</td>\n",
       "      <td>300</td>\n",
       "    </tr>\n",
       "    <tr>\n",
       "      <th>1</th>\n",
       "      <td>Breakfast</td>\n",
       "      <td>Egg White Delight</td>\n",
       "      <td>30</td>\n",
       "      <td>3</td>\n",
       "      <td>18</td>\n",
       "      <td>250</td>\n",
       "    </tr>\n",
       "    <tr>\n",
       "      <th>2</th>\n",
       "      <td>Breakfast</td>\n",
       "      <td>Sausage McMuffin</td>\n",
       "      <td>29</td>\n",
       "      <td>2</td>\n",
       "      <td>14</td>\n",
       "      <td>370</td>\n",
       "    </tr>\n",
       "    <tr>\n",
       "      <th>3</th>\n",
       "      <td>Beef &amp; Pork</td>\n",
       "      <td>Big Mac</td>\n",
       "      <td>47</td>\n",
       "      <td>2</td>\n",
       "      <td>21</td>\n",
       "      <td>450</td>\n",
       "    </tr>\n",
       "    <tr>\n",
       "      <th>4</th>\n",
       "      <td>Beef &amp; Pork</td>\n",
       "      <td>Quarter Pounder with Cheese</td>\n",
       "      <td>41</td>\n",
       "      <td>2</td>\n",
       "      <td>21</td>\n",
       "      <td>400</td>\n",
       "    </tr>\n",
       "  </tbody>\n",
       "</table>\n",
       "</div>"
      ],
      "text/plain": [
       "  Category_Type                 Item_in_Menu  Carbohydrates  Sugars  Protein  \\\n",
       "0     Breakfast                 Egg McMuffin             31       3       17   \n",
       "1     Breakfast            Egg White Delight             30       3       18   \n",
       "2     Breakfast             Sausage McMuffin             29       2       14   \n",
       "3   Beef & Pork                      Big Mac             47       2       21   \n",
       "4   Beef & Pork  Quarter Pounder with Cheese             41       2       21   \n",
       "\n",
       "   Calories  \n",
       "0       300  \n",
       "1       250  \n",
       "2       370  \n",
       "3       450  \n",
       "4       400  "
      ]
     },
     "execution_count": 325,
     "metadata": {},
     "output_type": "execute_result"
    }
   ],
   "source": [
    "Menu = pd.read_csv('Menu_list_Carbohydrates.csv')\n",
    "Menu.head()"
   ]
  },
  {
   "cell_type": "code",
   "execution_count": 326,
   "metadata": {},
   "outputs": [
    {
     "name": "stdout",
     "output_type": "stream",
     "text": [
      "Dimensions : (53, 6) \n",
      "\n",
      " Datatype : \n",
      " Category_Type    object\n",
      "Item_in_Menu     object\n",
      "Carbohydrates     int64\n",
      "Sugars            int64\n",
      "Protein           int64\n",
      "Calories          int64\n",
      "dtype: object \n",
      "\n",
      " Statistic Summary: \n",
      "              Category_Type  Item_in_Menu  Carbohydrates    Sugars    Protein  \\\n",
      "count                   53            53      53.000000  53.00000  53.000000   \n",
      "unique                   9            53            NaN       NaN        NaN   \n",
      "top     Smoothies & Shakes  Egg McMuffin            NaN       NaN        NaN   \n",
      "freq                    14             1            NaN       NaN        NaN   \n",
      "mean                   NaN           NaN      43.169811   8.45283  21.716981   \n",
      "std                    NaN           NaN      29.685360   7.18590   9.841782   \n",
      "min                    NaN           NaN       0.000000   0.00000   1.000000   \n",
      "25%                    NaN           NaN      25.000000   3.00000  17.000000   \n",
      "50%                    NaN           NaN      39.000000   7.00000  20.000000   \n",
      "75%                    NaN           NaN      58.000000  14.00000  28.000000   \n",
      "max                    NaN           NaN     135.000000  32.00000  48.000000   \n",
      "\n",
      "           Calories  \n",
      "count     53.000000  \n",
      "unique          NaN  \n",
      "top             NaN  \n",
      "freq            NaN  \n",
      "mean     523.207547  \n",
      "std      209.530369  \n",
      "min      150.000000  \n",
      "25%      410.000000  \n",
      "50%      480.000000  \n",
      "75%      600.000000  \n",
      "max     1150.000000  \n"
     ]
    }
   ],
   "source": [
    "dimensions = Menu.shape\n",
    "datatype = Menu.dtypes\n",
    "statistic_summary = Menu.describe(include='all')\n",
    "print('Dimensions :',dimensions,'\\n\\n',\n",
    "     'Datatype :','\\n',datatype,'\\n\\n',\n",
    "     'Statistic Summary:','\\n',statistic_summary)"
   ]
  },
  {
   "cell_type": "markdown",
   "metadata": {},
   "source": [
    "#### B. Which are the top 10 items that have the least Carbohydrates?"
   ]
  },
  {
   "cell_type": "code",
   "execution_count": 24,
   "metadata": {},
   "outputs": [
    {
     "data": {
      "text/html": [
       "<div>\n",
       "<style scoped>\n",
       "    .dataframe tbody tr th:only-of-type {\n",
       "        vertical-align: middle;\n",
       "    }\n",
       "\n",
       "    .dataframe tbody tr th {\n",
       "        vertical-align: top;\n",
       "    }\n",
       "\n",
       "    .dataframe thead th {\n",
       "        text-align: right;\n",
       "    }\n",
       "</style>\n",
       "<table border=\"1\" class=\"dataframe\">\n",
       "  <thead>\n",
       "    <tr style=\"text-align: right;\">\n",
       "      <th></th>\n",
       "      <th>Category_Type</th>\n",
       "      <th>Item_in_Menu</th>\n",
       "      <th>Carbohydrates</th>\n",
       "      <th>Sugars</th>\n",
       "      <th>Protein</th>\n",
       "      <th>Calories</th>\n",
       "    </tr>\n",
       "  </thead>\n",
       "  <tbody>\n",
       "    <tr>\n",
       "      <th>38</th>\n",
       "      <td>Coffee &amp; Tea</td>\n",
       "      <td>Iced Tea (Large)</td>\n",
       "      <td>0</td>\n",
       "      <td>0</td>\n",
       "      <td>1</td>\n",
       "      <td>150</td>\n",
       "    </tr>\n",
       "    <tr>\n",
       "      <th>37</th>\n",
       "      <td>Coffee &amp; Tea</td>\n",
       "      <td>Iced Tea (Medium)</td>\n",
       "      <td>0</td>\n",
       "      <td>2</td>\n",
       "      <td>12</td>\n",
       "      <td>300</td>\n",
       "    </tr>\n",
       "    <tr>\n",
       "      <th>36</th>\n",
       "      <td>Coffee &amp; Tea</td>\n",
       "      <td>Iced Tea (Small)</td>\n",
       "      <td>0</td>\n",
       "      <td>14</td>\n",
       "      <td>15</td>\n",
       "      <td>520</td>\n",
       "    </tr>\n",
       "    <tr>\n",
       "      <th>26</th>\n",
       "      <td>Snacks &amp; Sides</td>\n",
       "      <td>Apple Slices</td>\n",
       "      <td>4</td>\n",
       "      <td>7</td>\n",
       "      <td>33</td>\n",
       "      <td>670</td>\n",
       "    </tr>\n",
       "    <tr>\n",
       "      <th>25</th>\n",
       "      <td>Snacks &amp; Sides</td>\n",
       "      <td>Side Salad</td>\n",
       "      <td>4</td>\n",
       "      <td>8</td>\n",
       "      <td>30</td>\n",
       "      <td>570</td>\n",
       "    </tr>\n",
       "    <tr>\n",
       "      <th>31</th>\n",
       "      <td>Desserts</td>\n",
       "      <td>Kids Ice Cream Cone</td>\n",
       "      <td>7</td>\n",
       "      <td>17</td>\n",
       "      <td>36</td>\n",
       "      <td>1090</td>\n",
       "    </tr>\n",
       "    <tr>\n",
       "      <th>11</th>\n",
       "      <td>Salads</td>\n",
       "      <td>Premium Bacon Ranch Salad with Grilled Chicken</td>\n",
       "      <td>8</td>\n",
       "      <td>3</td>\n",
       "      <td>11</td>\n",
       "      <td>480</td>\n",
       "    </tr>\n",
       "    <tr>\n",
       "      <th>9</th>\n",
       "      <td>Salads</td>\n",
       "      <td>Premium Bacon Ranch Salad (without Chicken)</td>\n",
       "      <td>10</td>\n",
       "      <td>4</td>\n",
       "      <td>20</td>\n",
       "      <td>470</td>\n",
       "    </tr>\n",
       "    <tr>\n",
       "      <th>24</th>\n",
       "      <td>Snacks &amp; Sides</td>\n",
       "      <td>Kids French Fries</td>\n",
       "      <td>15</td>\n",
       "      <td>7</td>\n",
       "      <td>30</td>\n",
       "      <td>620</td>\n",
       "    </tr>\n",
       "    <tr>\n",
       "      <th>12</th>\n",
       "      <td>Salads</td>\n",
       "      <td>Premium Southwest Salad (without Chicken)</td>\n",
       "      <td>20</td>\n",
       "      <td>2</td>\n",
       "      <td>18</td>\n",
       "      <td>510</td>\n",
       "    </tr>\n",
       "  </tbody>\n",
       "</table>\n",
       "</div>"
      ],
      "text/plain": [
       "     Category_Type                                    Item_in_Menu  \\\n",
       "38    Coffee & Tea                                Iced Tea (Large)   \n",
       "37    Coffee & Tea                               Iced Tea (Medium)   \n",
       "36    Coffee & Tea                                Iced Tea (Small)   \n",
       "26  Snacks & Sides                                    Apple Slices   \n",
       "25  Snacks & Sides                                      Side Salad   \n",
       "31        Desserts                             Kids Ice Cream Cone   \n",
       "11          Salads  Premium Bacon Ranch Salad with Grilled Chicken   \n",
       "9           Salads     Premium Bacon Ranch Salad (without Chicken)   \n",
       "24  Snacks & Sides                               Kids French Fries   \n",
       "12          Salads       Premium Southwest Salad (without Chicken)   \n",
       "\n",
       "    Carbohydrates  Sugars  Protein  Calories  \n",
       "38              0       0        1       150  \n",
       "37              0       2       12       300  \n",
       "36              0      14       15       520  \n",
       "26              4       7       33       670  \n",
       "25              4       8       30       570  \n",
       "31              7      17       36      1090  \n",
       "11              8       3       11       480  \n",
       "9              10       4       20       470  \n",
       "24             15       7       30       620  \n",
       "12             20       2       18       510  "
      ]
     },
     "execution_count": 24,
     "metadata": {},
     "output_type": "execute_result"
    }
   ],
   "source": [
    "Menu.sort_values(by='Carbohydrates').head(10)"
   ]
  },
  {
   "cell_type": "markdown",
   "metadata": {},
   "source": [
    "#### C. Which are the top 10 items that have the most Carbohydrates?"
   ]
  },
  {
   "cell_type": "code",
   "execution_count": 25,
   "metadata": {},
   "outputs": [
    {
     "data": {
      "text/html": [
       "<div>\n",
       "<style scoped>\n",
       "    .dataframe tbody tr th:only-of-type {\n",
       "        vertical-align: middle;\n",
       "    }\n",
       "\n",
       "    .dataframe tbody tr th {\n",
       "        vertical-align: top;\n",
       "    }\n",
       "\n",
       "    .dataframe thead th {\n",
       "        text-align: right;\n",
       "    }\n",
       "</style>\n",
       "<table border=\"1\" class=\"dataframe\">\n",
       "  <thead>\n",
       "    <tr style=\"text-align: right;\">\n",
       "      <th></th>\n",
       "      <th>Category_Type</th>\n",
       "      <th>Item_in_Menu</th>\n",
       "      <th>Carbohydrates</th>\n",
       "      <th>Sugars</th>\n",
       "      <th>Protein</th>\n",
       "      <th>Calories</th>\n",
       "    </tr>\n",
       "  </thead>\n",
       "  <tbody>\n",
       "    <tr>\n",
       "      <th>50</th>\n",
       "      <td>Smoothies &amp; Shakes</td>\n",
       "      <td>Vanilla Shake (Large)</td>\n",
       "      <td>135</td>\n",
       "      <td>7</td>\n",
       "      <td>24</td>\n",
       "      <td>430</td>\n",
       "    </tr>\n",
       "    <tr>\n",
       "      <th>52</th>\n",
       "      <td>Smoothies &amp; Shakes</td>\n",
       "      <td>Strawberry Shake (Medium)</td>\n",
       "      <td>114</td>\n",
       "      <td>7</td>\n",
       "      <td>22</td>\n",
       "      <td>380</td>\n",
       "    </tr>\n",
       "    <tr>\n",
       "      <th>49</th>\n",
       "      <td>Smoothies &amp; Shakes</td>\n",
       "      <td>Vanilla Shake (Medium)</td>\n",
       "      <td>109</td>\n",
       "      <td>7</td>\n",
       "      <td>15</td>\n",
       "      <td>290</td>\n",
       "    </tr>\n",
       "    <tr>\n",
       "      <th>51</th>\n",
       "      <td>Smoothies &amp; Shakes</td>\n",
       "      <td>Strawberry Shake (Small)</td>\n",
       "      <td>90</td>\n",
       "      <td>14</td>\n",
       "      <td>39</td>\n",
       "      <td>720</td>\n",
       "    </tr>\n",
       "    <tr>\n",
       "      <th>48</th>\n",
       "      <td>Smoothies &amp; Shakes</td>\n",
       "      <td>Vanilla Shake (Small)</td>\n",
       "      <td>86</td>\n",
       "      <td>6</td>\n",
       "      <td>12</td>\n",
       "      <td>240</td>\n",
       "    </tr>\n",
       "    <tr>\n",
       "      <th>41</th>\n",
       "      <td>Smoothies &amp; Shakes</td>\n",
       "      <td>Blueberry Pomegranate Smoothie (Large)</td>\n",
       "      <td>79</td>\n",
       "      <td>18</td>\n",
       "      <td>5</td>\n",
       "      <td>260</td>\n",
       "    </tr>\n",
       "    <tr>\n",
       "      <th>47</th>\n",
       "      <td>Smoothies &amp; Shakes</td>\n",
       "      <td>Mango Pineapple Smoothie (Large)</td>\n",
       "      <td>78</td>\n",
       "      <td>10</td>\n",
       "      <td>48</td>\n",
       "      <td>750</td>\n",
       "    </tr>\n",
       "    <tr>\n",
       "      <th>35</th>\n",
       "      <td>Beverages</td>\n",
       "      <td>Coca-Cola Classic (Large)</td>\n",
       "      <td>76</td>\n",
       "      <td>14</td>\n",
       "      <td>8</td>\n",
       "      <td>350</td>\n",
       "    </tr>\n",
       "    <tr>\n",
       "      <th>44</th>\n",
       "      <td>Smoothies &amp; Shakes</td>\n",
       "      <td>Strawberry Banana Smoothie (Large)</td>\n",
       "      <td>74</td>\n",
       "      <td>12</td>\n",
       "      <td>37</td>\n",
       "      <td>600</td>\n",
       "    </tr>\n",
       "    <tr>\n",
       "      <th>23</th>\n",
       "      <td>Snacks &amp; Sides</td>\n",
       "      <td>Large French Fries</td>\n",
       "      <td>67</td>\n",
       "      <td>15</td>\n",
       "      <td>21</td>\n",
       "      <td>500</td>\n",
       "    </tr>\n",
       "  </tbody>\n",
       "</table>\n",
       "</div>"
      ],
      "text/plain": [
       "         Category_Type                            Item_in_Menu  Carbohydrates  \\\n",
       "50  Smoothies & Shakes                   Vanilla Shake (Large)            135   \n",
       "52  Smoothies & Shakes               Strawberry Shake (Medium)            114   \n",
       "49  Smoothies & Shakes                  Vanilla Shake (Medium)            109   \n",
       "51  Smoothies & Shakes                Strawberry Shake (Small)             90   \n",
       "48  Smoothies & Shakes                   Vanilla Shake (Small)             86   \n",
       "41  Smoothies & Shakes  Blueberry Pomegranate Smoothie (Large)             79   \n",
       "47  Smoothies & Shakes        Mango Pineapple Smoothie (Large)             78   \n",
       "35           Beverages               Coca-Cola Classic (Large)             76   \n",
       "44  Smoothies & Shakes      Strawberry Banana Smoothie (Large)             74   \n",
       "23      Snacks & Sides                      Large French Fries             67   \n",
       "\n",
       "    Sugars  Protein  Calories  \n",
       "50       7       24       430  \n",
       "52       7       22       380  \n",
       "49       7       15       290  \n",
       "51      14       39       720  \n",
       "48       6       12       240  \n",
       "41      18        5       260  \n",
       "47      10       48       750  \n",
       "35      14        8       350  \n",
       "44      12       37       600  \n",
       "23      15       21       500  "
      ]
     },
     "execution_count": 25,
     "metadata": {},
     "output_type": "execute_result"
    }
   ],
   "source": [
    "Menu.sort_values(by='Carbohydrates',ascending=False).head(10)"
   ]
  },
  {
   "cell_type": "markdown",
   "metadata": {},
   "source": [
    "#### D. Display the bar graph for frequncy of `Categories` of food items and write your observations."
   ]
  },
  {
   "cell_type": "code",
   "execution_count": 71,
   "metadata": {},
   "outputs": [
    {
     "data": {
      "image/png": "[encoded data removed]",
      "text/plain": [
       "<Figure size 1080x360 with 1 Axes>"
      ]
     },
     "metadata": {
      "needs_background": "light"
     },
     "output_type": "display_data"
    }
   ],
   "source": [
    "plt.figure(figsize=(15,5))\n",
    "plt.bar(x=Menu['Category_Type'].drop_duplicates(),height=Menu['Category_Type'].value_counts(sort=False),\n",
    "        color=['y','r','orange','g','c','m','brown','grey','gold'])\n",
    "plt.xlabel('Category_Type')\n",
    "plt.ylabel('Frequency')\n",
    "plt.title('Frequncy of Categories of food items')\n",
    "plt.show()"
   ]
  },
  {
   "cell_type": "raw",
   "metadata": {},
   "source": [
    "From the information in the bar graph we can infer that Snacks & Sides and Smoothies & Shakes have the highest amount of categories in food items. While salds and Deserts have much less categories in food items and the lowest food items are in Breakfast,Beef & Pork,Chicken & Fish,Beverages and Coffee & Tea."
   ]
  },
  {
   "cell_type": "markdown",
   "metadata": {},
   "source": [
    "#### E. An Indian male requires 2500 calories in a day and a female requires 2000 calories in a day to maintain good lifestyle. Find the solutions as displayed in sample output1 and 2.\n",
    "    Sample Output1:\n",
    "\n",
    "    * Average calories of 'Beverages' category is 796.67\n",
    "    * On an Average 'Beverages' contributes to men's calories intake  0.32\n",
    "    * On an Average 'Beverages' contributes to women's calories intake  0.4\n",
    "    \n",
    "    Steps to get the output1\n",
    "    1. For each item of Beverages display calorie and calculate the contribution of that food item in the male and females's daily calorie need. \n",
    "    2. Calculate average calories for the beverages category\n",
    "    3. Calculate average contribution of calorie for male's requirement using beverages category\n",
    "    4. Calculate average contribution of calorie for female's requirement using beverages category\n"
   ]
  },
  {
   "cell_type": "code",
   "execution_count": 141,
   "metadata": {},
   "outputs": [],
   "source": [
    "Bev = Menu[33:36]"
   ]
  },
  {
   "cell_type": "code",
   "execution_count": 142,
   "metadata": {},
   "outputs": [
    {
     "data": {
      "text/html": [
       "<div>\n",
       "<style scoped>\n",
       "    .dataframe tbody tr th:only-of-type {\n",
       "        vertical-align: middle;\n",
       "    }\n",
       "\n",
       "    .dataframe tbody tr th {\n",
       "        vertical-align: top;\n",
       "    }\n",
       "\n",
       "    .dataframe thead th {\n",
       "        text-align: right;\n",
       "    }\n",
       "</style>\n",
       "<table border=\"1\" class=\"dataframe\">\n",
       "  <thead>\n",
       "    <tr style=\"text-align: right;\">\n",
       "      <th></th>\n",
       "      <th>Item_in_Menu</th>\n",
       "      <th>Calories</th>\n",
       "    </tr>\n",
       "  </thead>\n",
       "  <tbody>\n",
       "    <tr>\n",
       "      <th>33</th>\n",
       "      <td>Coca-Cola Classic (Small)</td>\n",
       "      <td>990</td>\n",
       "    </tr>\n",
       "    <tr>\n",
       "      <th>34</th>\n",
       "      <td>Coca-Cola Classic (Medium)</td>\n",
       "      <td>1050</td>\n",
       "    </tr>\n",
       "    <tr>\n",
       "      <th>35</th>\n",
       "      <td>Coca-Cola Classic (Large)</td>\n",
       "      <td>350</td>\n",
       "    </tr>\n",
       "  </tbody>\n",
       "</table>\n",
       "</div>"
      ],
      "text/plain": [
       "                  Item_in_Menu  Calories\n",
       "33   Coca-Cola Classic (Small)       990\n",
       "34  Coca-Cola Classic (Medium)      1050\n",
       "35   Coca-Cola Classic (Large)       350"
      ]
     },
     "execution_count": 142,
     "metadata": {},
     "output_type": "execute_result"
    }
   ],
   "source": [
    "Bev[['Item_in_Menu','Calories']]"
   ]
  },
  {
   "cell_type": "code",
   "execution_count": 164,
   "metadata": {
    "scrolled": true
   },
   "outputs": [
    {
     "data": {
      "text/html": [
       "<div>\n",
       "<style scoped>\n",
       "    .dataframe tbody tr th:only-of-type {\n",
       "        vertical-align: middle;\n",
       "    }\n",
       "\n",
       "    .dataframe tbody tr th {\n",
       "        vertical-align: top;\n",
       "    }\n",
       "\n",
       "    .dataframe thead th {\n",
       "        text-align: right;\n",
       "    }\n",
       "</style>\n",
       "<table border=\"1\" class=\"dataframe\">\n",
       "  <thead>\n",
       "    <tr style=\"text-align: right;\">\n",
       "      <th></th>\n",
       "      <th>Item_in_Menu</th>\n",
       "      <th>Calories</th>\n",
       "      <th>Male_cal_intake</th>\n",
       "      <th>Female_cal_intake</th>\n",
       "    </tr>\n",
       "  </thead>\n",
       "  <tbody>\n",
       "    <tr>\n",
       "      <th>33</th>\n",
       "      <td>Coca-Cola Classic (Small)</td>\n",
       "      <td>990</td>\n",
       "      <td>0.39</td>\n",
       "      <td>0.49</td>\n",
       "    </tr>\n",
       "    <tr>\n",
       "      <th>34</th>\n",
       "      <td>Coca-Cola Classic (Medium)</td>\n",
       "      <td>1050</td>\n",
       "      <td>0.42</td>\n",
       "      <td>0.52</td>\n",
       "    </tr>\n",
       "    <tr>\n",
       "      <th>35</th>\n",
       "      <td>Coca-Cola Classic (Large)</td>\n",
       "      <td>350</td>\n",
       "      <td>0.14</td>\n",
       "      <td>0.17</td>\n",
       "    </tr>\n",
       "  </tbody>\n",
       "</table>\n",
       "</div>"
      ],
      "text/plain": [
       "                  Item_in_Menu  Calories  Male_cal_intake  Female_cal_intake\n",
       "33   Coca-Cola Classic (Small)       990             0.39               0.49\n",
       "34  Coca-Cola Classic (Medium)      1050             0.42               0.52\n",
       "35   Coca-Cola Classic (Large)       350             0.14               0.17"
      ]
     },
     "execution_count": 164,
     "metadata": {},
     "output_type": "execute_result"
    }
   ],
   "source": [
    "Bev['Male_cal_intake']=[0.39,0.42,0.14]\n",
    "Bev['Female_cal_intake']=[0.49,0.52,0.17]\n",
    "Bev[['Item_in_Menu','Calories','Male_cal_intake','Female_cal_intake']]"
   ]
  },
  {
   "cell_type": "code",
   "execution_count": 165,
   "metadata": {},
   "outputs": [
    {
     "name": "stdout",
     "output_type": "stream",
     "text": [
      "Average calories of 'Beverages' category is 796.67\n",
      "On an Average 'Beverages' contributes to men's calories intake 0.32\n",
      "On an Average 'Beverages' contributes to women's calories intake  0.4\n"
     ]
    }
   ],
   "source": [
    "print(\"Average calories of 'Beverages' category is\",round(Bev['Calories'].mean(),2))\n",
    "print(\"On an Average 'Beverages' contributes to men's calories intake\",round(Bev['Male_cal_intake'].mean(),2))\n",
    "print(\"On an Average 'Beverages' contributes to women's calories intake \",round(Bev['Female_cal_intake'].mean(),1))\n"
   ]
  },
  {
   "cell_type": "markdown",
   "metadata": {},
   "source": [
    "**Sample Output2**\n",
    "\n",
    "* Average calories of 'Coffee & Tea' category is 323.33\n",
    "* Averagely 'Coffee & Tea' contributes to men's calories intake for  0.13\n",
    "* Averagely 'Coffee & Tea' contributes to women's calories intake for  0.16\n",
    "\n",
    "    Steps to get the output2\n",
    "    1. For each item of 'Coffee & Tea' display calorie and calculate the contribution of that food item in the male and    females's daily calorie need. \n",
    "    2. Calculate average calories for the 'Coffee & Tea' category\n",
    "    3. Calculate average contribution of calorie for male's requirement using 'Coffee & Tea' category\n",
    "    4. Calculate average contribution of calorie for female's requirement using 'Coffee & Tea' category"
   ]
  },
  {
   "cell_type": "code",
   "execution_count": 169,
   "metadata": {},
   "outputs": [
    {
     "data": {
      "text/html": [
       "<div>\n",
       "<style scoped>\n",
       "    .dataframe tbody tr th:only-of-type {\n",
       "        vertical-align: middle;\n",
       "    }\n",
       "\n",
       "    .dataframe tbody tr th {\n",
       "        vertical-align: top;\n",
       "    }\n",
       "\n",
       "    .dataframe thead th {\n",
       "        text-align: right;\n",
       "    }\n",
       "</style>\n",
       "<table border=\"1\" class=\"dataframe\">\n",
       "  <thead>\n",
       "    <tr style=\"text-align: right;\">\n",
       "      <th></th>\n",
       "      <th>Item_in_Menu</th>\n",
       "      <th>Calories</th>\n",
       "    </tr>\n",
       "  </thead>\n",
       "  <tbody>\n",
       "    <tr>\n",
       "      <th>36</th>\n",
       "      <td>Iced Tea (Small)</td>\n",
       "      <td>520</td>\n",
       "    </tr>\n",
       "    <tr>\n",
       "      <th>37</th>\n",
       "      <td>Iced Tea (Medium)</td>\n",
       "      <td>300</td>\n",
       "    </tr>\n",
       "    <tr>\n",
       "      <th>38</th>\n",
       "      <td>Iced Tea (Large)</td>\n",
       "      <td>150</td>\n",
       "    </tr>\n",
       "  </tbody>\n",
       "</table>\n",
       "</div>"
      ],
      "text/plain": [
       "         Item_in_Menu  Calories\n",
       "36   Iced Tea (Small)       520\n",
       "37  Iced Tea (Medium)       300\n",
       "38   Iced Tea (Large)       150"
      ]
     },
     "execution_count": 169,
     "metadata": {},
     "output_type": "execute_result"
    }
   ],
   "source": [
    "C_T = Menu[36:39]\n",
    "C_T[['Item_in_Menu','Calories']]"
   ]
  },
  {
   "cell_type": "code",
   "execution_count": 170,
   "metadata": {},
   "outputs": [
    {
     "data": {
      "text/html": [
       "<div>\n",
       "<style scoped>\n",
       "    .dataframe tbody tr th:only-of-type {\n",
       "        vertical-align: middle;\n",
       "    }\n",
       "\n",
       "    .dataframe tbody tr th {\n",
       "        vertical-align: top;\n",
       "    }\n",
       "\n",
       "    .dataframe thead th {\n",
       "        text-align: right;\n",
       "    }\n",
       "</style>\n",
       "<table border=\"1\" class=\"dataframe\">\n",
       "  <thead>\n",
       "    <tr style=\"text-align: right;\">\n",
       "      <th></th>\n",
       "      <th>Item_in_Menu</th>\n",
       "      <th>Calories</th>\n",
       "      <th>Male_cal_intake</th>\n",
       "      <th>Female_cal_intake</th>\n",
       "    </tr>\n",
       "  </thead>\n",
       "  <tbody>\n",
       "    <tr>\n",
       "      <th>36</th>\n",
       "      <td>Iced Tea (Small)</td>\n",
       "      <td>520</td>\n",
       "      <td>0.21</td>\n",
       "      <td>0.26</td>\n",
       "    </tr>\n",
       "    <tr>\n",
       "      <th>37</th>\n",
       "      <td>Iced Tea (Medium)</td>\n",
       "      <td>300</td>\n",
       "      <td>0.12</td>\n",
       "      <td>0.15</td>\n",
       "    </tr>\n",
       "    <tr>\n",
       "      <th>38</th>\n",
       "      <td>Iced Tea (Large)</td>\n",
       "      <td>150</td>\n",
       "      <td>0.06</td>\n",
       "      <td>0.07</td>\n",
       "    </tr>\n",
       "  </tbody>\n",
       "</table>\n",
       "</div>"
      ],
      "text/plain": [
       "         Item_in_Menu  Calories  Male_cal_intake  Female_cal_intake\n",
       "36   Iced Tea (Small)       520             0.21               0.26\n",
       "37  Iced Tea (Medium)       300             0.12               0.15\n",
       "38   Iced Tea (Large)       150             0.06               0.07"
      ]
     },
     "execution_count": 170,
     "metadata": {},
     "output_type": "execute_result"
    }
   ],
   "source": [
    "C_T['Male_cal_intake']=[0.21,0.12,0.06]\n",
    "C_T['Female_cal_intake']=[0.26,0.15,0.07]\n",
    "C_T[['Item_in_Menu','Calories','Male_cal_intake','Female_cal_intake']]"
   ]
  },
  {
   "cell_type": "code",
   "execution_count": 173,
   "metadata": {},
   "outputs": [
    {
     "name": "stdout",
     "output_type": "stream",
     "text": [
      "Average calories of 'Coffee & Tea' category is 323.33 \n",
      "\n",
      " Averagely 'Coffee & Tea' contributes to men's calories intake for 0.13 \n",
      "\n",
      " Averagely 'Coffee & Tea' contributes to women's calories intake for 0.16\n"
     ]
    }
   ],
   "source": [
    "print(\"Average calories of 'Coffee & Tea' category is\", round(C_T['Calories'].mean(),2),'\\n\\n',\n",
    "\"Averagely 'Coffee & Tea' contributes to men's calories intake for\",round(C_T['Male_cal_intake'].mean(),2),'\\n\\n',\n",
    "\"Averagely 'Coffee & Tea' contributes to women's calories intake for\",round(C_T['Female_cal_intake'].mean(),2))"
   ]
  },
  {
   "cell_type": "markdown",
   "metadata": {},
   "source": [
    "#### F. If you order grilled chicken rather than crispy chicken, what is the change in calorie intake?\n",
    "        Step1:  Display the suitable graph for the number of calories in Crispy Chicken category\n",
    "\n",
    "        Step2: Find the average calories for Crispy Chicken Category\n",
    "\n",
    "        Step3: Display the suitable graph for the number of calories in Grilled Chicken category\n",
    "\n",
    "        Step4: Find the average calories for Grilled Chicken Category\n",
    "\n",
    "        Step5: Get the final visual comparison of Crispy vs Grilled on the basis of calories\n",
    "\n",
    "        Step6: Write your observations."
   ]
  },
  {
   "cell_type": "markdown",
   "metadata": {},
   "source": [
    "##### Step1: Display the suitable graph for the number of calories in Crispy Chicken category"
   ]
  },
  {
   "cell_type": "code",
   "execution_count": 327,
   "metadata": {},
   "outputs": [],
   "source": [
    "Menu['Crispy_Chicken'] = Menu['Item_in_Menu'].str.findall('Crispy Chicken')\n",
    "Menu['Grilled_Chicken'] = Menu['Item_in_Menu'].str.findall('Grilled Chicken')"
   ]
  },
  {
   "cell_type": "code",
   "execution_count": 330,
   "metadata": {},
   "outputs": [],
   "source": [
    "Menu['Crispy_Chicken'][0:6] = np.nan\n",
    "Menu['Crispy_Chicken'][6:11:2] = 'Crispy Chicken'\n",
    "Menu['Crispy_Chicken'][7:10:2] = np.nan\n",
    "Menu['Crispy_Chicken'][11:13] = np.nan\n",
    "Menu['Crispy_Chicken'][13:20:2] = 'Crispy Chicken'\n",
    "Menu['Crispy_Chicken'][14:19:2] = np.nan\n",
    "Menu['Crispy_Chicken'][20:] = np.nan\n",
    "\n",
    "Menu['Grilled_Chicken'][0:7] = np.nan\n",
    "Menu['Grilled_Chicken'][7] = 'Grilled_Chicken'\n",
    "Menu['Grilled_Chicken'][8:11] = np.nan\n",
    "Menu['Grilled_Chicken'][11] = 'Grilled_Chicken'\n",
    "Menu['Grilled_Chicken'][12:14] = np.nan\n",
    "Menu['Grilled_Chicken'][14:21:2] = 'Grilled_Chicken'\n",
    "Menu['Grilled_Chicken'][15:20:2] = np.nan\n",
    "Menu['Grilled_Chicken'][21:] = np.nan"
   ]
  },
  {
   "cell_type": "code",
   "execution_count": 331,
   "metadata": {},
   "outputs": [],
   "source": [
    "m1 = Menu.dropna(subset='Crispy_Chicken')"
   ]
  },
  {
   "cell_type": "code",
   "execution_count": 332,
   "metadata": {
    "scrolled": false
   },
   "outputs": [
    {
     "data": {
      "image/png": "[encoded data removed]",
      "text/plain": [
       "<Figure size 1800x720 with 1 Axes>"
      ]
     },
     "metadata": {
      "needs_background": "light"
     },
     "output_type": "display_data"
    }
   ],
   "source": [
    "plt.figure(figsize=(25,10))\n",
    "sns.barplot(y=m1['Item_in_Menu'],x=m1['Calories'],orient='horizontal')\n",
    "plt.show()"
   ]
  },
  {
   "cell_type": "markdown",
   "metadata": {},
   "source": [
    "##### Step2: Find the average calories for Crispy Chicken Category"
   ]
  },
  {
   "cell_type": "code",
   "execution_count": 302,
   "metadata": {},
   "outputs": [
    {
     "name": "stdout",
     "output_type": "stream",
     "text": [
      "The average calories for Crispy Chicken Category is 474.29\n"
     ]
    }
   ],
   "source": [
    "print('The average calories for Crispy Chicken Category is',round(m1['Calories'].mean(),2))"
   ]
  },
  {
   "cell_type": "markdown",
   "metadata": {},
   "source": [
    "##### Step3: Display the suitable graph for the number of calories in Grilled Chicken category"
   ]
  },
  {
   "cell_type": "code",
   "execution_count": 303,
   "metadata": {},
   "outputs": [],
   "source": [
    "m2 = Menu.dropna(subset='Grilled_Chicken')"
   ]
  },
  {
   "cell_type": "code",
   "execution_count": 334,
   "metadata": {},
   "outputs": [
    {
     "data": {
      "image/png": "[encoded data removed]",
      "text/plain": [
       "<Figure size 1800x720 with 1 Axes>"
      ]
     },
     "metadata": {
      "needs_background": "light"
     },
     "output_type": "display_data"
    }
   ],
   "source": [
    "plt.figure(figsize=(25,10))\n",
    "sns.barplot(y=m2['Item_in_Menu'],x=m2['Calories'],orient='horizontal')\n",
    "plt.show()"
   ]
  },
  {
   "cell_type": "markdown",
   "metadata": {},
   "source": [
    "##### Step4:Find the average calories for Grilled Chicken Category"
   ]
  },
  {
   "cell_type": "code",
   "execution_count": 305,
   "metadata": {},
   "outputs": [
    {
     "name": "stdout",
     "output_type": "stream",
     "text": [
      "The average calories for Grilled Chicken Category is 468.33\n"
     ]
    }
   ],
   "source": [
    "print('The average calories for Grilled Chicken Category is',round(m2['Calories'].mean(),2))"
   ]
  },
  {
   "cell_type": "markdown",
   "metadata": {},
   "source": [
    "##### Step 5: Get the final visual comparison of Crispy vs Grilled on the basis of calories"
   ]
  },
  {
   "cell_type": "code",
   "execution_count": 339,
   "metadata": {
    "scrolled": true
   },
   "outputs": [
    {
     "data": {
      "image/png": "[encoded data removed]",
      "text/plain": [
       "<Figure size 2160x1440 with 2 Axes>"
      ]
     },
     "metadata": {
      "needs_background": "light"
     },
     "output_type": "display_data"
    }
   ],
   "source": [
    "plt.figure(figsize=(30,20))\n",
    "plt.subplot(2,1,1)\n",
    "plt.plot(m1['Calories'],m1['Item_in_Menu'],marker='o',color='r',lw=5,markersize='25')\n",
    "plt.subplot(2,1,2)\n",
    "plt.plot(m2['Calories'],m2['Item_in_Menu'],marker='*',color='g',lw=5,markersize='25')\n",
    "plt.show()"
   ]
  },
  {
   "cell_type": "markdown",
   "metadata": {},
   "source": [
    "##### Step6: Write your observations"
   ]
  },
  {
   "cell_type": "raw",
   "metadata": {},
   "source": [
    "From the given graph it can be concluded that some foods provide better calories when grilled and vice versa.\n",
    "For the grilled chicken category Honey Mustard Snack wrap provided the most calories while for the crispy chicken category Premium Southwest Salad was the one to provide highest calories,.\n",
    "Similarly the lowest in calories in Grilled chicken catogary is ranch snack wrap and for crispy chicken category it is premium crispy chicken classic club sandwich.\n"
   ]
  },
  {
   "cell_type": "markdown",
   "metadata": {},
   "source": [
    "##### G. Plot scatter plot between carbohydrates and calories"
   ]
  },
  {
   "cell_type": "code",
   "execution_count": 321,
   "metadata": {},
   "outputs": [
    {
     "data": {
      "image/png": "[encoded data removed]",
      "text/plain": [
       "<Figure size 432x288 with 1 Axes>"
      ]
     },
     "metadata": {
      "needs_background": "light"
     },
     "output_type": "display_data"
    }
   ],
   "source": [
    "plt.scatter(x='Carbohydrates',y='Calories',data = Menu)\n",
    "plt.title(\"Carbohydrates Vs Calories\")\n",
    "plt.xlabel('Carbohydrates')\n",
    "plt.ylabel('Calories')\n",
    "plt.show()"
   ]
  },
  {
   "cell_type": "code",
   "execution_count": null,
   "metadata": {},
   "outputs": [],
   "source": []
  }
 ],
 "metadata": {
  "kernelspec": {
   "display_name": "Python 3 (ipykernel)",
   "language": "python",
   "name": "python3"
  },
  "language_info": {
   "codemirror_mode": {
    "name": "ipython",
    "version": 3
   },
   "file_extension": ".py",
   "mimetype": "text/x-python",
   "name": "python",
   "nbconvert_exporter": "python",
   "pygments_lexer": "ipython3",
   "version": "3.9.12"
  }
 },
 "nbformat": 4,
 "nbformat_minor": 4
}
