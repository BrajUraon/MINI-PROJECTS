{
 "cells": [
  {
   "cell_type": "markdown",
   "id": "35e100f1",
   "metadata": {},
   "source": [
    "# Courier Management System\n",
    "###### By - Braj Bhooshan Uraon"
   ]
  },
  {
   "cell_type": "markdown",
   "id": "a64f26b2",
   "metadata": {},
   "source": [
    "### Q1. Create a Dictionary of lists to store the information of shipments given in the table. The key should be the shipment id and the value with it’s details. "
   ]
  },
  {
   "cell_type": "code",
   "execution_count": 1,
   "id": "9fb85b8d",
   "metadata": {},
   "outputs": [
    {
     "name": "stdout",
     "output_type": "stream",
     "text": [
      "\n",
      "Shipment_id: 101\n",
      "Sender: 1\n",
      "Receiver: 3\n",
      "Start_date: 14-03-2020\n",
      "Delivery_date: 25-03-2020\n",
      "Sender_location: Area1\n",
      "Reciever_location: Area6\n",
      "Delivery_status: Deliverd\n",
      "Shipping_cost: 198\n",
      "\n",
      "Shipment_id: 102\n",
      "Sender: 4\n",
      "Receiver: 1\n",
      "Start_date: 18-06-2020\n",
      "Delivery_date: 09-07-2020\n",
      "Sender_location: Area2\n",
      "Reciever_location: Area4\n",
      "Delivery_status: Deliverd\n",
      "Shipping_cost: 275\n",
      "\n",
      "Shipment_id: 103\n",
      "Sender: 2\n",
      "Receiver: 3\n",
      "Start_date: 01-12-2020\n",
      "Delivery_date: null\n",
      "Sender_location: Area5\n",
      "Reciever_location: Area1\n",
      "Delivery_status: In-Transit\n",
      "Shipping_cost: 200\n",
      "\n",
      "Shipment_id: 104\n",
      "Sender: 1\n",
      "Receiver: 5\n",
      "Start_date: 23-06-2020\n",
      "Delivery_date: 25-06-2020\n",
      "Sender_location: Area1\n",
      "Reciever_location: Area4\n",
      "Delivery_status: Deliverd\n",
      "Shipping_cost: 314\n",
      "\n",
      "Shipment_id: 105\n",
      "Sender: 3\n",
      "Receiver: 4\n",
      "Start_date: 29-08-2020\n",
      "Delivery_date: 10-09-2020\n",
      "Sender_location: Area5\n",
      "Reciever_location: Area3\n",
      "Delivery_status: Deliverd\n",
      "Shipping_cost: 275\n",
      "\n",
      "Shipment_id: 106\n",
      "Sender: 5\n",
      "Receiver: 2\n",
      "Start_date: 28-06-2020\n",
      "Delivery_date: null\n",
      "Sender_location: Area3\n",
      "Reciever_location: Area1\n",
      "Delivery_status: In-Transit\n",
      "Shipping_cost: 270\n"
     ]
    }
   ],
   "source": [
    "Shipment = {\n",
    "    101:\n",
    "    {'Sender':1,\n",
    "    'Receiver':3,\n",
    "    'Start_date':'14-03-2020',\n",
    "    'Delivery_date':'25-03-2020',\n",
    "    'Sender_location':'Area1',\n",
    "    'Reciever_location':'Area6',\n",
    "    'Delivery_status':'Deliverd',\n",
    "    'Shipping_cost': 198},\n",
    "    102:\n",
    "    {'Sender':4,\n",
    "    'Receiver':1,\n",
    "    'Start_date':'18-06-2020',\n",
    "    'Delivery_date':'09-07-2020',\n",
    "    'Sender_location':'Area2',\n",
    "    'Reciever_location':'Area4',\n",
    "    'Delivery_status':'Deliverd',\n",
    "    'Shipping_cost': 275},\n",
    "    103:\n",
    "    {'Sender':2,\n",
    "    'Receiver':3,\n",
    "    'Start_date':'01-12-2020',\n",
    "    'Delivery_date':'null',\n",
    "    'Sender_location':'Area5',\n",
    "    'Reciever_location':'Area1',\n",
    "    'Delivery_status':'In-Transit',\n",
    "    'Shipping_cost': 200},\n",
    "    104:\n",
    "    {'Sender':1,\n",
    "    'Receiver':5,\n",
    "    'Start_date':'23-06-2020',\n",
    "    'Delivery_date':'25-06-2020',\n",
    "    'Sender_location':'Area1',\n",
    "    'Reciever_location':'Area4',\n",
    "    'Delivery_status':'Deliverd',\n",
    "    'Shipping_cost': 314},\n",
    "    105:\n",
    "    {'Sender':3,\n",
    "    'Receiver':4,\n",
    "    'Start_date':'29-08-2020',\n",
    "    'Delivery_date':'10-09-2020',\n",
    "    'Sender_location':'Area5',\n",
    "    'Reciever_location':'Area3',\n",
    "    'Delivery_status':'Deliverd',\n",
    "    'Shipping_cost': 275},\n",
    "    106:\n",
    "    {'Sender':5,\n",
    "    'Receiver':2,\n",
    "    'Start_date':'28-06-2020',\n",
    "    'Delivery_date':'null',\n",
    "    'Sender_location':'Area3',\n",
    "    'Reciever_location':'Area1',\n",
    "    'Delivery_status':'In-Transit',\n",
    "    'Shipping_cost': 270}\n",
    "}\n",
    "for shipment_id, shipment_info in Shipment.items():\n",
    "    print('\\nShipment_id:',shipment_id)\n",
    "    for key in shipment_info:\n",
    "        print(key+':',shipment_info[key])"
   ]
  },
  {
   "cell_type": "markdown",
   "id": "25168ad7",
   "metadata": {},
   "source": [
    "### Q2. Create a Dictionary to store the information of clients given in the table."
   ]
  },
  {
   "cell_type": "code",
   "execution_count": 2,
   "id": "edb254de",
   "metadata": {},
   "outputs": [
    {
     "data": {
      "text/plain": [
       "{1: 'Philip', 2: 'Omega III', 3: 'Ramya', 4: 'Romesh', 5: 'John'}"
      ]
     },
     "execution_count": 2,
     "metadata": {},
     "output_type": "execute_result"
    }
   ],
   "source": [
    "Client = {1:'Philip',2:'Omega III',3:'Ramya',4:'Romesh',5:'John'}\n",
    "Client"
   ]
  },
  {
   "cell_type": "markdown",
   "id": "b2ab4aea",
   "metadata": {},
   "source": [
    "### Q3. Write a code to replace client’s id with their respective name in shipment dictionary using a loop and dictionary comprehension"
   ]
  },
  {
   "cell_type": "code",
   "execution_count": 3,
   "id": "98112d98",
   "metadata": {},
   "outputs": [
    {
     "name": "stdout",
     "output_type": "stream",
     "text": [
      "\n",
      "Shipment_id: 101\n",
      "Sender: Philip\n",
      "Receiver: Ramya\n",
      "Start_date: 14-03-2020\n",
      "Delivery_date: 25-03-2020\n",
      "Sender_location: Area1\n",
      "Reciever_location: Area6\n",
      "Delivery_status: Deliverd\n",
      "Shipping_cost: 198\n",
      "\n",
      "Shipment_id: 102\n",
      "Sender: Romesh\n",
      "Receiver: Philip\n",
      "Start_date: 18-06-2020\n",
      "Delivery_date: 09-07-2020\n",
      "Sender_location: Area2\n",
      "Reciever_location: Area4\n",
      "Delivery_status: Deliverd\n",
      "Shipping_cost: 275\n",
      "\n",
      "Shipment_id: 103\n",
      "Sender: Omega III\n",
      "Receiver: Ramya\n",
      "Start_date: 01-12-2020\n",
      "Delivery_date: null\n",
      "Sender_location: Area5\n",
      "Reciever_location: Area1\n",
      "Delivery_status: In-Transit\n",
      "Shipping_cost: 200\n",
      "\n",
      "Shipment_id: 104\n",
      "Sender: Philip\n",
      "Receiver: John\n",
      "Start_date: 23-06-2020\n",
      "Delivery_date: 25-06-2020\n",
      "Sender_location: Area1\n",
      "Reciever_location: Area4\n",
      "Delivery_status: Deliverd\n",
      "Shipping_cost: 314\n",
      "\n",
      "Shipment_id: 105\n",
      "Sender: Ramya\n",
      "Receiver: Romesh\n",
      "Start_date: 29-08-2020\n",
      "Delivery_date: 10-09-2020\n",
      "Sender_location: Area5\n",
      "Reciever_location: Area3\n",
      "Delivery_status: Deliverd\n",
      "Shipping_cost: 275\n",
      "\n",
      "Shipment_id: 106\n",
      "Sender: John\n",
      "Receiver: Omega III\n",
      "Start_date: 28-06-2020\n",
      "Delivery_date: null\n",
      "Sender_location: Area3\n",
      "Reciever_location: Area1\n",
      "Delivery_status: In-Transit\n",
      "Shipping_cost: 270\n"
     ]
    }
   ],
   "source": [
    "Shipment = {key:\n",
    "                 {k: Client[v] if k in ('Sender','Receiver') else v for k,v in value.items()}\n",
    "                 for key, value in Shipment.items()}\n",
    "\n",
    "for shipment_id, shipment_info in Shipment.items():\n",
    "    print('\\nShipment_id:',shipment_id)\n",
    "    for key in shipment_info:\n",
    "        print(key+':',shipment_info[key])"
   ]
  },
  {
   "cell_type": "markdown",
   "id": "7906db9e",
   "metadata": {},
   "source": [
    "### Q4. Print all shipment details that are sent by Phillip"
   ]
  },
  {
   "cell_type": "code",
   "execution_count": 4,
   "id": "24d26723",
   "metadata": {},
   "outputs": [
    {
     "name": "stdout",
     "output_type": "stream",
     "text": [
      "{101: {'Sender': 'Philip', 'Receiver': 'Ramya', 'Start_date': '14-03-2020', 'Delivery_date': '25-03-2020', 'Sender_location': 'Area1', 'Reciever_location': 'Area6', 'Delivery_status': 'Deliverd', 'Shipping_cost': 198}}\n",
      "{104: {'Sender': 'Philip', 'Receiver': 'John', 'Start_date': '23-06-2020', 'Delivery_date': '25-06-2020', 'Sender_location': 'Area1', 'Reciever_location': 'Area4', 'Delivery_status': 'Deliverd', 'Shipping_cost': 314}}\n"
     ]
    }
   ],
   "source": [
    "for key,value in Shipment.items():\n",
    "    for k,v in value.items():\n",
    "        if Shipment[key]['Sender']=='Philip':\n",
    "            print({key:value})\n",
    "            break"
   ]
  },
  {
   "cell_type": "markdown",
   "id": "64a57430",
   "metadata": {},
   "source": [
    "### Q5. Print all shipment details that are received by Ramya"
   ]
  },
  {
   "cell_type": "code",
   "execution_count": 5,
   "id": "75185cae",
   "metadata": {},
   "outputs": [
    {
     "name": "stdout",
     "output_type": "stream",
     "text": [
      "{101: {'Sender': 'Philip', 'Receiver': 'Ramya', 'Start_date': '14-03-2020', 'Delivery_date': '25-03-2020', 'Sender_location': 'Area1', 'Reciever_location': 'Area6', 'Delivery_status': 'Deliverd', 'Shipping_cost': 198}}\n",
      "{103: {'Sender': 'Omega III', 'Receiver': 'Ramya', 'Start_date': '01-12-2020', 'Delivery_date': 'null', 'Sender_location': 'Area5', 'Reciever_location': 'Area1', 'Delivery_status': 'In-Transit', 'Shipping_cost': 200}}\n"
     ]
    }
   ],
   "source": [
    "for key,value in Shipment.items():\n",
    "    for k,v in value.items():\n",
    "        if Shipment[key]['Receiver']=='Ramya':\n",
    "            print({key:value})\n",
    "            break"
   ]
  },
  {
   "cell_type": "markdown",
   "id": "aadb028b",
   "metadata": {},
   "source": [
    "### Q6. Print all shipments which are in 'In-Transit' status"
   ]
  },
  {
   "cell_type": "code",
   "execution_count": 6,
   "id": "8ef72a1d",
   "metadata": {},
   "outputs": [
    {
     "name": "stdout",
     "output_type": "stream",
     "text": [
      "{103: {'Sender': 'Omega III', 'Receiver': 'Ramya', 'Start_date': '01-12-2020', 'Delivery_date': 'null', 'Sender_location': 'Area5', 'Reciever_location': 'Area1', 'Delivery_status': 'In-Transit', 'Shipping_cost': 200}}\n",
      "{106: {'Sender': 'John', 'Receiver': 'Omega III', 'Start_date': '28-06-2020', 'Delivery_date': 'null', 'Sender_location': 'Area3', 'Reciever_location': 'Area1', 'Delivery_status': 'In-Transit', 'Shipping_cost': 270}}\n"
     ]
    }
   ],
   "source": [
    "for key,value in Shipment.items():\n",
    "    for k,v in value.items():\n",
    "        if Shipment[key]['Delivery_status']=='In-Transit':\n",
    "            print({key:value})\n",
    "            break"
   ]
  },
  {
   "cell_type": "markdown",
   "id": "7726c439",
   "metadata": {},
   "source": [
    "### Q7. Print all shipments which are delivered within 7 days of courier Start date"
   ]
  },
  {
   "cell_type": "code",
   "execution_count": 8,
   "id": "4a858f74",
   "metadata": {},
   "outputs": [
    {
     "name": "stdout",
     "output_type": "stream",
     "text": [
      "{104: {'Sender': 'Philip', 'Receiver': 'John', 'Start_date': '23-06-2020', 'Delivery_date': '25-06-2020', 'Sender_location': 'Area1', 'Reciever_location': 'Area4', 'Delivery_status': 'Deliverd', 'Shipping_cost': 314}}\n"
     ]
    }
   ],
   "source": [
    "import datetime\n",
    "for k,v in Shipment.items():\n",
    "    for x,y in v.items():\n",
    "        if v['Delivery_date'] == 'null':\n",
    "            break\n",
    "        Start_date = datetime.datetime.strptime(v['Start_date'],\"%d-%m-%Y\")\n",
    "        Delivery_date = datetime.datetime.strptime(v['Delivery_date'],\"%d-%m-%Y\")\n",
    "        if (Start_date-Delivery_date)>=datetime.timedelta(days=-7):\n",
    "            print({k:v})\n",
    "            break"
   ]
  },
  {
   "cell_type": "markdown",
   "id": "a682b3ed",
   "metadata": {},
   "source": [
    "### Q8. Print all shipments which are delivered after 15 days of courier start date or not yet been delivered."
   ]
  },
  {
   "cell_type": "code",
   "execution_count": 9,
   "id": "ec1e2778",
   "metadata": {},
   "outputs": [
    {
     "name": "stdout",
     "output_type": "stream",
     "text": [
      "{102: {'Sender': 'Romesh', 'Receiver': 'Philip', 'Start_date': '18-06-2020', 'Delivery_date': '09-07-2020', 'Sender_location': 'Area2', 'Reciever_location': 'Area4', 'Delivery_status': 'Deliverd', 'Shipping_cost': 275}}\n",
      "{103: {'Sender': 'Omega III', 'Receiver': 'Ramya', 'Start_date': '01-12-2020', 'Delivery_date': 'null', 'Sender_location': 'Area5', 'Reciever_location': 'Area1', 'Delivery_status': 'In-Transit', 'Shipping_cost': 200}}\n",
      "{106: {'Sender': 'John', 'Receiver': 'Omega III', 'Start_date': '28-06-2020', 'Delivery_date': 'null', 'Sender_location': 'Area3', 'Reciever_location': 'Area1', 'Delivery_status': 'In-Transit', 'Shipping_cost': 270}}\n"
     ]
    }
   ],
   "source": [
    "for k,v in Shipment.items():\n",
    "    for x,y in v.items():\n",
    "        if v['Delivery_date'] == 'null':\n",
    "            print({k:v})\n",
    "            break\n",
    "        Start_date = datetime.datetime.strptime(v['Start_date'],\"%d-%m-%Y\")\n",
    "        Delivery_date = datetime.datetime.strptime(v['Delivery_date'],\"%d-%m-%Y\")\n",
    "        if (Start_date-Delivery_date)<=datetime.timedelta(days=-15):\n",
    "            print({k:v})\n",
    "            break"
   ]
  },
  {
   "cell_type": "markdown",
   "id": "88112e38",
   "metadata": {},
   "source": [
    "### Q9. Print the shipment details whose shipment cost in the range of 200 to 300"
   ]
  },
  {
   "cell_type": "code",
   "execution_count": 10,
   "id": "39837fd2",
   "metadata": {},
   "outputs": [
    {
     "name": "stdout",
     "output_type": "stream",
     "text": [
      "{102: {'Sender': 'Romesh', 'Receiver': 'Philip', 'Start_date': '18-06-2020', 'Delivery_date': '09-07-2020', 'Sender_location': 'Area2', 'Reciever_location': 'Area4', 'Delivery_status': 'Deliverd', 'Shipping_cost': 275}} \n",
      "\n",
      "{105: {'Sender': 'Ramya', 'Receiver': 'Romesh', 'Start_date': '29-08-2020', 'Delivery_date': '10-09-2020', 'Sender_location': 'Area5', 'Reciever_location': 'Area3', 'Delivery_status': 'Deliverd', 'Shipping_cost': 275}} \n",
      "\n",
      "{106: {'Sender': 'John', 'Receiver': 'Omega III', 'Start_date': '28-06-2020', 'Delivery_date': 'null', 'Sender_location': 'Area3', 'Reciever_location': 'Area1', 'Delivery_status': 'In-Transit', 'Shipping_cost': 270}} \n",
      "\n"
     ]
    }
   ],
   "source": [
    "for key,value in Shipment.items():\n",
    "    for k,v in value.items():\n",
    "        if Shipment[key]['Shipping_cost']<300 and Shipment[key]['Shipping_cost']>200:\n",
    "            print({key:value},'\\n')\n",
    "            break"
   ]
  },
  {
   "cell_type": "markdown",
   "id": "6db8d5e2",
   "metadata": {},
   "source": [
    "### Q10. Print the name of all senders whose delivery status is ‘in-transit’."
   ]
  },
  {
   "cell_type": "code",
   "execution_count": 11,
   "id": "90d8ab5e",
   "metadata": {},
   "outputs": [
    {
     "name": "stdout",
     "output_type": "stream",
     "text": [
      "Still in transit: {'Omega III'}\n",
      "Still in transit: {'John'}\n"
     ]
    }
   ],
   "source": [
    "for key,value in Shipment.items():\n",
    "    for k,v in value.items():\n",
    "        if Shipment[key]['Delivery_status'] == 'In-Transit':\n",
    "            print('Still in transit:',{Shipment[key]['Sender']})\n",
    "            break"
   ]
  },
  {
   "cell_type": "markdown",
   "id": "5bf4aa89",
   "metadata": {},
   "source": [
    "### Q11. Print the shipment ID that has the highest shipment cost."
   ]
  },
  {
   "cell_type": "code",
   "execution_count": 12,
   "id": "8497c925",
   "metadata": {},
   "outputs": [
    {
     "name": "stdout",
     "output_type": "stream",
     "text": [
      "shipment_id: 104\n"
     ]
    }
   ],
   "source": [
    "for key,value in Shipment.items():\n",
    "    for k,v in value.items():\n",
    "        if Shipment[key]['Shipping_cost']>300:\n",
    "            print('shipment_id:',key)\n",
    "            break"
   ]
  },
  {
   "cell_type": "markdown",
   "id": "5832866c",
   "metadata": {},
   "source": [
    "### Q12. Print all the shipment details that are delivered by ‘John’ and received by ‘Omega III’"
   ]
  },
  {
   "cell_type": "code",
   "execution_count": 13,
   "id": "073685f1",
   "metadata": {},
   "outputs": [
    {
     "name": "stdout",
     "output_type": "stream",
     "text": [
      "{106: {'Sender': 'John', 'Receiver': 'Omega III', 'Start_date': '28-06-2020', 'Delivery_date': 'null', 'Sender_location': 'Area3', 'Reciever_location': 'Area1', 'Delivery_status': 'In-Transit', 'Shipping_cost': 270}}\n"
     ]
    }
   ],
   "source": [
    "for key,value in Shipment.items():\n",
    "    for k,v in value.items():\n",
    "        if Shipment[key]['Sender']=='John' and Shipment[key]['Receiver'] == 'Omega III':\n",
    "            print({key:value})\n",
    "            break"
   ]
  },
  {
   "cell_type": "code",
   "execution_count": null,
   "id": "2d42f02c",
   "metadata": {},
   "outputs": [],
   "source": [
    "# END OF PROJECT"
   ]
  }
 ],
 "metadata": {
  "kernelspec": {
   "display_name": "Python 3 (ipykernel)",
   "language": "python",
   "name": "python3"
  },
  "language_info": {
   "codemirror_mode": {
    "name": "ipython",
    "version": 3
   },
   "file_extension": ".py",
   "mimetype": "text/x-python",
   "name": "python",
   "nbconvert_exporter": "python",
   "pygments_lexer": "ipython3",
   "version": "3.9.12"
  }
 },
 "nbformat": 4,
 "nbformat_minor": 5
}
