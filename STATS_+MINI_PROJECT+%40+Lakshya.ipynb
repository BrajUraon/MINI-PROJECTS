{
 "cells": [
  {
   "cell_type": "code",
   "execution_count": 1,
   "id": "3aeab673",
   "metadata": {},
   "outputs": [],
   "source": [
    "# import the libraries\n",
    "import numpy as np\n",
    "import pandas as pd\n",
    "import seaborn as sns\n",
    "import matplotlib.pyplot as plt\n",
    "import warnings\n",
    "warnings.filterwarnings(\"ignore\")\n",
    "import random\n",
    "import statistics\n",
    "from scipy import stats\n",
    "from statsmodels.stats import weightstats as stests\n",
    "from scipy.stats import shapiro\n",
    "from scipy.stats import levene\n",
    "from statsmodels.stats import power\n",
    "import statsmodels.api as sm\n",
    "from statsmodels.formula.api import ols\n",
    "from statsmodels.stats.anova import anova_lm\n",
    "from scipy.stats import chi2_contingency\n",
    "from scipy.stats import chi2\n",
    "from scipy.stats import chisquare\n",
    "import statsmodels.stats.multicomp as mc\n",
    "from statsmodels.stats.weightstats import ztest as ztest"
   ]
  },
  {
   "cell_type": "markdown",
   "id": "1f569671",
   "metadata": {},
   "source": [
    "### 1. Perform the following statistical analysis on the fifa world cup dataset. The dataset consists of player information, which includes height; weight overall rating, potential etc. Data Cleaning and basic EDA process needs to be performed."
   ]
  },
  {
   "cell_type": "markdown",
   "id": "72549941",
   "metadata": {},
   "source": [
    "### Note: \n",
    "1) Perform all the Statistical analysis with 5% (Significance level). \n",
    "\n",
    "2) Assume all the features are normally distributed and have equal variance.\n"
   ]
  },
  {
   "cell_type": "code",
   "execution_count": 2,
   "id": "0e256a4f",
   "metadata": {},
   "outputs": [
    {
     "data": {
      "text/html": [
       "<div>\n",
       "<style scoped>\n",
       "    .dataframe tbody tr th:only-of-type {\n",
       "        vertical-align: middle;\n",
       "    }\n",
       "\n",
       "    .dataframe tbody tr th {\n",
       "        vertical-align: top;\n",
       "    }\n",
       "\n",
       "    .dataframe thead th {\n",
       "        text-align: right;\n",
       "    }\n",
       "</style>\n",
       "<table border=\"1\" class=\"dataframe\">\n",
       "  <thead>\n",
       "    <tr style=\"text-align: right;\">\n",
       "      <th></th>\n",
       "      <th>Name</th>\n",
       "      <th>Age</th>\n",
       "      <th>Nationality</th>\n",
       "      <th>Overall_rating</th>\n",
       "      <th>Potential</th>\n",
       "      <th>Club</th>\n",
       "      <th>Preferred Foot</th>\n",
       "      <th>International Reputation</th>\n",
       "      <th>Weak Foot</th>\n",
       "      <th>Skill Moves</th>\n",
       "      <th>Work Rate</th>\n",
       "      <th>Position</th>\n",
       "      <th>Jersey Number</th>\n",
       "      <th>Height</th>\n",
       "      <th>Weight</th>\n",
       "    </tr>\n",
       "  </thead>\n",
       "  <tbody>\n",
       "    <tr>\n",
       "      <th>0</th>\n",
       "      <td>L. Messi</td>\n",
       "      <td>31</td>\n",
       "      <td>Argentina</td>\n",
       "      <td>94</td>\n",
       "      <td>94</td>\n",
       "      <td>FC Barcelona</td>\n",
       "      <td>Left</td>\n",
       "      <td>5</td>\n",
       "      <td>4</td>\n",
       "      <td>4</td>\n",
       "      <td>Medium/ Medium</td>\n",
       "      <td>RF</td>\n",
       "      <td>10</td>\n",
       "      <td>5.583333</td>\n",
       "      <td>159</td>\n",
       "    </tr>\n",
       "    <tr>\n",
       "      <th>1</th>\n",
       "      <td>Cristiano Ronaldo</td>\n",
       "      <td>33</td>\n",
       "      <td>Portugal</td>\n",
       "      <td>94</td>\n",
       "      <td>94</td>\n",
       "      <td>Juventus</td>\n",
       "      <td>Right</td>\n",
       "      <td>5</td>\n",
       "      <td>4</td>\n",
       "      <td>5</td>\n",
       "      <td>High/ Low</td>\n",
       "      <td>ST</td>\n",
       "      <td>7</td>\n",
       "      <td>6.166667</td>\n",
       "      <td>183</td>\n",
       "    </tr>\n",
       "    <tr>\n",
       "      <th>2</th>\n",
       "      <td>Neymar Jr</td>\n",
       "      <td>26</td>\n",
       "      <td>Brazil</td>\n",
       "      <td>92</td>\n",
       "      <td>93</td>\n",
       "      <td>Paris Saint-Germain</td>\n",
       "      <td>Right</td>\n",
       "      <td>5</td>\n",
       "      <td>5</td>\n",
       "      <td>5</td>\n",
       "      <td>High/ Medium</td>\n",
       "      <td>LW</td>\n",
       "      <td>10</td>\n",
       "      <td>5.750000</td>\n",
       "      <td>150</td>\n",
       "    </tr>\n",
       "    <tr>\n",
       "      <th>3</th>\n",
       "      <td>De Gea</td>\n",
       "      <td>27</td>\n",
       "      <td>Spain</td>\n",
       "      <td>91</td>\n",
       "      <td>93</td>\n",
       "      <td>Manchester United</td>\n",
       "      <td>Right</td>\n",
       "      <td>4</td>\n",
       "      <td>3</td>\n",
       "      <td>1</td>\n",
       "      <td>Medium/ Medium</td>\n",
       "      <td>GK</td>\n",
       "      <td>1</td>\n",
       "      <td>6.333333</td>\n",
       "      <td>168</td>\n",
       "    </tr>\n",
       "    <tr>\n",
       "      <th>4</th>\n",
       "      <td>K. De Bruyne</td>\n",
       "      <td>27</td>\n",
       "      <td>Belgium</td>\n",
       "      <td>91</td>\n",
       "      <td>92</td>\n",
       "      <td>Manchester City</td>\n",
       "      <td>Right</td>\n",
       "      <td>4</td>\n",
       "      <td>5</td>\n",
       "      <td>4</td>\n",
       "      <td>High/ High</td>\n",
       "      <td>RCM</td>\n",
       "      <td>7</td>\n",
       "      <td>5.083333</td>\n",
       "      <td>154</td>\n",
       "    </tr>\n",
       "  </tbody>\n",
       "</table>\n",
       "</div>"
      ],
      "text/plain": [
       "                Name  Age Nationality  Overall_rating  Potential  \\\n",
       "0           L. Messi   31   Argentina              94         94   \n",
       "1  Cristiano Ronaldo   33    Portugal              94         94   \n",
       "2          Neymar Jr   26      Brazil              92         93   \n",
       "3             De Gea   27       Spain              91         93   \n",
       "4       K. De Bruyne   27     Belgium              91         92   \n",
       "\n",
       "                  Club Preferred Foot  International Reputation  Weak Foot  \\\n",
       "0         FC Barcelona           Left                         5          4   \n",
       "1             Juventus          Right                         5          4   \n",
       "2  Paris Saint-Germain          Right                         5          5   \n",
       "3    Manchester United          Right                         4          3   \n",
       "4      Manchester City          Right                         4          5   \n",
       "\n",
       "   Skill Moves       Work Rate Position  Jersey Number    Height  Weight  \n",
       "0            4  Medium/ Medium       RF             10  5.583333     159  \n",
       "1            5       High/ Low       ST              7  6.166667     183  \n",
       "2            5    High/ Medium       LW             10  5.750000     150  \n",
       "3            1  Medium/ Medium       GK              1  6.333333     168  \n",
       "4            4      High/ High      RCM              7  5.083333     154  "
      ]
     },
     "execution_count": 2,
     "metadata": {},
     "output_type": "execute_result"
    }
   ],
   "source": [
    "# import the dataset\n",
    "df1 = pd.read_csv('fifa_stats.csv')\n",
    "df1.head()"
   ]
  },
  {
   "cell_type": "markdown",
   "id": "57fc48a0",
   "metadata": {},
   "source": [
    "#### a)\tAssuming age as population, perform the central limit theorem with sample size of 200. Find the standard error and the mean of sampling distribution. Compare the results with population mean and standard deviation. Explain in non-technical terms why the estimated standard error of a sample mean tends to decrease with an increase in sample size"
   ]
  },
  {
   "cell_type": "code",
   "execution_count": 39,
   "id": "badefe5d",
   "metadata": {},
   "outputs": [
    {
     "data": {
      "image/png": "[encoded data removed]",
      "text/plain": [
       "<Figure size 432x288 with 1 Axes>"
      ]
     },
     "metadata": {
      "needs_background": "light"
     },
     "output_type": "display_data"
    }
   ],
   "source": [
    "pop = stats.skewnorm.rvs(a=-20, size = 100000, random_state = 0)\n",
    "sns.distplot(pop)\n",
    "plt.show()"
   ]
  },
  {
   "cell_type": "code",
   "execution_count": 10,
   "id": "a5551649",
   "metadata": {},
   "outputs": [
    {
     "data": {
      "image/png": "[encoded data removed]",
      "text/plain": [
       "<Figure size 432x288 with 1 Axes>"
      ]
     },
     "metadata": {
      "needs_background": "light"
     },
     "output_type": "display_data"
    }
   ],
   "source": [
    "sample_size = len(df1['Age'])\n",
    "no_of_sample = 200\n",
    "sample_mean_list = []\n",
    "for i in range(no_of_sample):\n",
    "    \n",
    "    sample = np.random.choice(pop, size = sample_size, replace = False)\n",
    "    sample_mean = np.mean(sample)\n",
    "    sample_mean_list.append(sample_mean)\n",
    "sns.distplot(sample_mean_list)\n",
    "plt.show()"
   ]
  },
  {
   "cell_type": "code",
   "execution_count": 11,
   "id": "c432b911",
   "metadata": {},
   "outputs": [
    {
     "name": "stdout",
     "output_type": "stream",
     "text": [
      "Standard error: 0.5348\n"
     ]
    }
   ],
   "source": [
    "mean = df1['Age'].mean()\n",
    "std = df1['Age'].std()\n",
    "n = 200\n",
    "alpha = 0.05\n",
    "z_alpha_by_2 = stats.norm.isf(q = alpha/2)\n",
    "error = (z_alpha_by_2 * std) / (np.sqrt(n))\n",
    "print('Standard error:', round(error,4))"
   ]
  },
  {
   "cell_type": "markdown",
   "id": "c873285b",
   "metadata": {},
   "source": [
    "#### b) Is there any evidence that the players overall rating is greater than 80?"
   ]
  },
  {
   "cell_type": "markdown",
   "id": "e33183ac",
   "metadata": {},
   "source": [
    " H0 : Overall Rating <= 80 Ha : Overall Rating > 80"
   ]
  },
  {
   "cell_type": "code",
   "execution_count": 12,
   "id": "412f1afe",
   "metadata": {},
   "outputs": [
    {
     "data": {
      "text/plain": [
       "True"
      ]
     },
     "execution_count": 12,
     "metadata": {},
     "output_type": "execute_result"
    }
   ],
   "source": [
    "z_critical = round(stats.norm.isf(q = 0.95),2)\n",
    "z_calc, z_calc1 = stests.ztest(x1 = df1['Overall_rating'], value = 80, alternative =\n",
    "'smaller')\n",
    "z_calc < z_critical"
   ]
  },
  {
   "cell_type": "markdown",
   "id": "da8b0940",
   "metadata": {},
   "source": [
    "#Reject null hypothesis. There is enough evidence that the players overall rating is greater than 80\n"
   ]
  },
  {
   "cell_type": "markdown",
   "id": "ae1724eb",
   "metadata": {},
   "source": [
    "#### c) Perform the statistical test to identify whether preferred foot has any impact on potential. Also, perform thegraphical analysis."
   ]
  },
  {
   "cell_type": "code",
   "execution_count": 13,
   "id": "f7b13522",
   "metadata": {},
   "outputs": [],
   "source": [
    "right = df1[(df1['Preferred Foot'] == 'Right')]['Potential']\n",
    "n_r = len(right)\n",
    "avg_r = np.mean(right)\n",
    "std_r = statistics.stdev(right)\n",
    "left = df1[(df1['Preferred Foot'] == 'Left')]['Potential']\n",
    "n_l = len(left)\n",
    "avg_l = np.mean(left)\n",
    "std_l = statistics.stdev(left)\n",
    "dof=n_r+n_l-2"
   ]
  },
  {
   "cell_type": "code",
   "execution_count": 14,
   "id": "1baa57f7",
   "metadata": {},
   "outputs": [
    {
     "data": {
      "text/plain": [
       "True"
      ]
     },
     "execution_count": 14,
     "metadata": {},
     "output_type": "execute_result"
    }
   ],
   "source": [
    "# Shapiro test\n",
    "# H0: Data is normally distributed\n",
    "# Ha: Data is not normally distributed\n",
    "stat, p_value = shapiro(df1['Potential'])\n",
    "p_value < 0.05"
   ]
  },
  {
   "cell_type": "markdown",
   "id": "b2449b48",
   "metadata": {},
   "source": [
    "#Data is not normally distributed. let's assume that data is normally distributed."
   ]
  },
  {
   "cell_type": "code",
   "execution_count": 15,
   "id": "8dc5fd52",
   "metadata": {},
   "outputs": [
    {
     "data": {
      "text/plain": [
       "False"
      ]
     },
     "execution_count": 15,
     "metadata": {},
     "output_type": "execute_result"
    }
   ],
   "source": [
    "# Levene test\n",
    "# H0: Variances are equal\n",
    "# Ha: Variances are not equal\n",
    "stat_l,p_value_l = stats.levene(right,left)\n",
    "p_value_l < 0.05"
   ]
  },
  {
   "cell_type": "code",
   "execution_count": 16,
   "id": "f4583013",
   "metadata": {},
   "outputs": [
    {
     "data": {
      "text/plain": [
       "(1.96, -1.5378037422592814)"
      ]
     },
     "execution_count": 16,
     "metadata": {},
     "output_type": "execute_result"
    }
   ],
   "source": [
    "t_val = np.abs(round(stats.t.isf(q = 0.05/2, df = dof), 2))\n",
    "t_stat, p_val = stats.ttest_ind(a = right, b = left)\n",
    "t_val,t_stat"
   ]
  },
  {
   "cell_type": "code",
   "execution_count": 17,
   "id": "f3faff26",
   "metadata": {},
   "outputs": [
    {
     "data": {
      "text/plain": [
       "(1.96, -1.5378037422592814, 0.12425494914461453)"
      ]
     },
     "execution_count": 17,
     "metadata": {},
     "output_type": "execute_result"
    }
   ],
   "source": [
    "# The null and alternative hypothesis is\n",
    "# H0: u1 - u2 = 0\n",
    "# Ha: u1 - u2 != 0\n",
    "t_val = np.abs(round(stats.t.isf(q = 0.05/2, df = dof), 2))\n",
    "t_stat, p_val = stats.ttest_ind(a = right, b = left)\n",
    "t_val, t_stat, p_val"
   ]
  },
  {
   "cell_type": "markdown",
   "id": "30d53da7",
   "metadata": {},
   "source": [
    "We can see that the test statistic value is less than 1.96 and greater than -1.96, the p-value is greater than 0.05. Thus\n",
    "we reject the null hypothesis and conclude that the preferred foot does not have any impact on the potential."
   ]
  },
  {
   "cell_type": "code",
   "execution_count": 18,
   "id": "ca30f017",
   "metadata": {},
   "outputs": [
    {
     "data": {
      "text/plain": [
       "<AxesSubplot:xlabel='Preferred Foot', ylabel='Potential'>"
      ]
     },
     "execution_count": 18,
     "metadata": {},
     "output_type": "execute_result"
    },
    {
     "data": {
      "image/png": "[encoded data removed]",
      "text/plain": [
       "<Figure size 432x288 with 1 Axes>"
      ]
     },
     "metadata": {
      "needs_background": "light"
     },
     "output_type": "display_data"
    }
   ],
   "source": [
    "sns.boxplot(df1['Preferred Foot'] ,df1['Potential'])"
   ]
  },
  {
   "cell_type": "markdown",
   "id": "cb346c4c",
   "metadata": {},
   "source": [
    "From the graph it can be seen that Potential of Left foot and Right foot are almost equal. Thus it can be further\n",
    "concluded that preferred foot doesn't impact potential"
   ]
  },
  {
   "cell_type": "markdown",
   "id": "98c0477c",
   "metadata": {},
   "source": [
    "#### d) Perform the statistical test to identify the relation between the overall rating and potential. [Assume both arecontinuous data points]."
   ]
  },
  {
   "cell_type": "code",
   "execution_count": 19,
   "id": "2f64605a",
   "metadata": {},
   "outputs": [],
   "source": [
    "# Ho : There is no relation between the overall rating and potential.\n",
    "# Ha : There is a relation between the overall rating and potential\n",
    "# Aplha = 0.05"
   ]
  },
  {
   "cell_type": "code",
   "execution_count": 20,
   "id": "a097b572",
   "metadata": {},
   "outputs": [
    {
     "data": {
      "text/plain": [
       "Ttest_indResult(statistic=-17.89175319557915, pvalue=6.241604310936382e-69)"
      ]
     },
     "execution_count": 20,
     "metadata": {},
     "output_type": "execute_result"
    }
   ],
   "source": [
    "stats.ttest_ind(df1['Overall_rating'], df1['Potential'])"
   ]
  },
  {
   "cell_type": "code",
   "execution_count": 21,
   "id": "2ece4975",
   "metadata": {},
   "outputs": [],
   "source": [
    "#  Hence P-Value is lesser than alpha , there here we reject null hypothesis\n",
    "\n",
    "# Conclusion : There is a relation between the overall rating and potential"
   ]
  },
  {
   "cell_type": "markdown",
   "id": "eb72a688",
   "metadata": {},
   "source": [
    "#### e) Does skill move have any effect in overall rating. Perform the graphical analysis and the statisticalanalysis"
   ]
  },
  {
   "cell_type": "code",
   "execution_count": 22,
   "id": "880f61b0",
   "metadata": {},
   "outputs": [
    {
     "data": {
      "text/html": [
       "<div>\n",
       "<style scoped>\n",
       "    .dataframe tbody tr th:only-of-type {\n",
       "        vertical-align: middle;\n",
       "    }\n",
       "\n",
       "    .dataframe tbody tr th {\n",
       "        vertical-align: top;\n",
       "    }\n",
       "\n",
       "    .dataframe thead th {\n",
       "        text-align: right;\n",
       "    }\n",
       "</style>\n",
       "<table border=\"1\" class=\"dataframe\">\n",
       "  <thead>\n",
       "    <tr style=\"text-align: right;\">\n",
       "      <th></th>\n",
       "      <th>Name</th>\n",
       "      <th>Age</th>\n",
       "      <th>Nationality</th>\n",
       "      <th>Overall_rating</th>\n",
       "      <th>Potential</th>\n",
       "      <th>Club</th>\n",
       "      <th>Preferred Foot</th>\n",
       "      <th>International Reputation</th>\n",
       "      <th>Weak Foot</th>\n",
       "      <th>Skill Moves</th>\n",
       "      <th>Work Rate</th>\n",
       "      <th>Position</th>\n",
       "      <th>Jersey Number</th>\n",
       "      <th>Height</th>\n",
       "      <th>Weight</th>\n",
       "    </tr>\n",
       "  </thead>\n",
       "  <tbody>\n",
       "    <tr>\n",
       "      <th>0</th>\n",
       "      <td>L. Messi</td>\n",
       "      <td>31</td>\n",
       "      <td>Argentina</td>\n",
       "      <td>94</td>\n",
       "      <td>94</td>\n",
       "      <td>FC Barcelona</td>\n",
       "      <td>Left</td>\n",
       "      <td>5</td>\n",
       "      <td>4</td>\n",
       "      <td>4</td>\n",
       "      <td>Medium/ Medium</td>\n",
       "      <td>RF</td>\n",
       "      <td>10</td>\n",
       "      <td>5.583333</td>\n",
       "      <td>159</td>\n",
       "    </tr>\n",
       "    <tr>\n",
       "      <th>1</th>\n",
       "      <td>Cristiano Ronaldo</td>\n",
       "      <td>33</td>\n",
       "      <td>Portugal</td>\n",
       "      <td>94</td>\n",
       "      <td>94</td>\n",
       "      <td>Juventus</td>\n",
       "      <td>Right</td>\n",
       "      <td>5</td>\n",
       "      <td>4</td>\n",
       "      <td>5</td>\n",
       "      <td>High/ Low</td>\n",
       "      <td>ST</td>\n",
       "      <td>7</td>\n",
       "      <td>6.166667</td>\n",
       "      <td>183</td>\n",
       "    </tr>\n",
       "    <tr>\n",
       "      <th>2</th>\n",
       "      <td>Neymar Jr</td>\n",
       "      <td>26</td>\n",
       "      <td>Brazil</td>\n",
       "      <td>92</td>\n",
       "      <td>93</td>\n",
       "      <td>Paris Saint-Germain</td>\n",
       "      <td>Right</td>\n",
       "      <td>5</td>\n",
       "      <td>5</td>\n",
       "      <td>5</td>\n",
       "      <td>High/ Medium</td>\n",
       "      <td>LW</td>\n",
       "      <td>10</td>\n",
       "      <td>5.750000</td>\n",
       "      <td>150</td>\n",
       "    </tr>\n",
       "    <tr>\n",
       "      <th>3</th>\n",
       "      <td>De Gea</td>\n",
       "      <td>27</td>\n",
       "      <td>Spain</td>\n",
       "      <td>91</td>\n",
       "      <td>93</td>\n",
       "      <td>Manchester United</td>\n",
       "      <td>Right</td>\n",
       "      <td>4</td>\n",
       "      <td>3</td>\n",
       "      <td>1</td>\n",
       "      <td>Medium/ Medium</td>\n",
       "      <td>GK</td>\n",
       "      <td>1</td>\n",
       "      <td>6.333333</td>\n",
       "      <td>168</td>\n",
       "    </tr>\n",
       "    <tr>\n",
       "      <th>4</th>\n",
       "      <td>K. De Bruyne</td>\n",
       "      <td>27</td>\n",
       "      <td>Belgium</td>\n",
       "      <td>91</td>\n",
       "      <td>92</td>\n",
       "      <td>Manchester City</td>\n",
       "      <td>Right</td>\n",
       "      <td>4</td>\n",
       "      <td>5</td>\n",
       "      <td>4</td>\n",
       "      <td>High/ High</td>\n",
       "      <td>RCM</td>\n",
       "      <td>7</td>\n",
       "      <td>5.083333</td>\n",
       "      <td>154</td>\n",
       "    </tr>\n",
       "  </tbody>\n",
       "</table>\n",
       "</div>"
      ],
      "text/plain": [
       "                Name  Age Nationality  Overall_rating  Potential  \\\n",
       "0           L. Messi   31   Argentina              94         94   \n",
       "1  Cristiano Ronaldo   33    Portugal              94         94   \n",
       "2          Neymar Jr   26      Brazil              92         93   \n",
       "3             De Gea   27       Spain              91         93   \n",
       "4       K. De Bruyne   27     Belgium              91         92   \n",
       "\n",
       "                  Club Preferred Foot  International Reputation  Weak Foot  \\\n",
       "0         FC Barcelona           Left                         5          4   \n",
       "1             Juventus          Right                         5          4   \n",
       "2  Paris Saint-Germain          Right                         5          5   \n",
       "3    Manchester United          Right                         4          3   \n",
       "4      Manchester City          Right                         4          5   \n",
       "\n",
       "   Skill Moves       Work Rate Position  Jersey Number    Height  Weight  \n",
       "0            4  Medium/ Medium       RF             10  5.583333     159  \n",
       "1            5       High/ Low       ST              7  6.166667     183  \n",
       "2            5    High/ Medium       LW             10  5.750000     150  \n",
       "3            1  Medium/ Medium       GK              1  6.333333     168  \n",
       "4            4      High/ High      RCM              7  5.083333     154  "
      ]
     },
     "execution_count": 22,
     "metadata": {},
     "output_type": "execute_result"
    }
   ],
   "source": [
    "df1.head()"
   ]
  },
  {
   "cell_type": "code",
   "execution_count": 23,
   "id": "ef6c51df",
   "metadata": {},
   "outputs": [
    {
     "data": {
      "text/plain": [
       "0    94\n",
       "1    94\n",
       "2    92\n",
       "3    91\n",
       "4    91\n",
       "Name: Overall_rating, dtype: int64"
      ]
     },
     "execution_count": 23,
     "metadata": {},
     "output_type": "execute_result"
    }
   ],
   "source": [
    "df1['Overall_rating'].head(5)\n"
   ]
  },
  {
   "cell_type": "code",
   "execution_count": 24,
   "id": "4aed6933",
   "metadata": {},
   "outputs": [],
   "source": [
    "df1['Skill Moves'] = df1['Skill Moves'].astype('object')"
   ]
  },
  {
   "cell_type": "code",
   "execution_count": 25,
   "id": "17bd3fc7",
   "metadata": {},
   "outputs": [
    {
     "data": {
      "text/plain": [
       "array([4, 5, 1, 3, 2], dtype=object)"
      ]
     },
     "execution_count": 25,
     "metadata": {},
     "output_type": "execute_result"
    }
   ],
   "source": [
    "df1['Skill Moves'].unique()\n"
   ]
  },
  {
   "cell_type": "code",
   "execution_count": 26,
   "id": "8e81dce6",
   "metadata": {},
   "outputs": [
    {
     "name": "stdout",
     "output_type": "stream",
     "text": [
      "ShapiroResult(statistic=0.8525537848472595, pvalue=1.0221183102662362e-39)\n"
     ]
    }
   ],
   "source": [
    "g1= df1[df1['Skill Moves'] == '1']['Overall_rating']\n",
    "g2 = df1[df1['Skill Moves'] == '2']['Overall_rating']\n",
    "g3 = df1[df1['Skill Moves'] == '3']['Overall_rating']\n",
    "g4 = df1[df1['Skill Moves'] == '4']['Overall_rating']\n",
    "g5 = df1[df1['Skill Moves'] == '5']['Overall_rating']\n",
    "print(shapiro(df1['Overall_rating']))"
   ]
  },
  {
   "cell_type": "code",
   "execution_count": 27,
   "id": "9b1ad30a",
   "metadata": {},
   "outputs": [
    {
     "data": {
      "text/plain": [
       "False"
      ]
     },
     "execution_count": 27,
     "metadata": {},
     "output_type": "execute_result"
    }
   ],
   "source": [
    "1.0221183102662362e-39 > 0.01"
   ]
  },
  {
   "cell_type": "code",
   "execution_count": 28,
   "id": "c2b2a08f",
   "metadata": {},
   "outputs": [
    {
     "data": {
      "text/plain": [
       "False"
      ]
     },
     "execution_count": 28,
     "metadata": {},
     "output_type": "execute_result"
    }
   ],
   "source": [
    "s,p = stats.levene(g1,g2,g3,g4,g5)\n",
    "p > 0.01"
   ]
  },
  {
   "cell_type": "markdown",
   "id": "ca881071",
   "metadata": {},
   "source": [
    "### 2. Perform the following statistical analysis on the mobile network dataset given. The givendata set contains information about the internet, calls, messages of various network. DataCleaning and basic EDA process needs to be performed."
   ]
  },
  {
   "cell_type": "markdown",
   "id": "834d1efb",
   "metadata": {},
   "source": [
    "### Note:\n",
    "1) Perform all the Statistical analysis with 5%(Significance level).\n",
    "\n",
    "2) Perform the test of normality and test of variance in the appropriate places."
   ]
  },
  {
   "cell_type": "code",
   "execution_count": 29,
   "id": "465e32bc",
   "metadata": {},
   "outputs": [
    {
     "data": {
      "text/html": [
       "<div>\n",
       "<style scoped>\n",
       "    .dataframe tbody tr th:only-of-type {\n",
       "        vertical-align: middle;\n",
       "    }\n",
       "\n",
       "    .dataframe tbody tr th {\n",
       "        vertical-align: top;\n",
       "    }\n",
       "\n",
       "    .dataframe thead th {\n",
       "        text-align: right;\n",
       "    }\n",
       "</style>\n",
       "<table border=\"1\" class=\"dataframe\">\n",
       "  <thead>\n",
       "    <tr style=\"text-align: right;\">\n",
       "      <th></th>\n",
       "      <th>date</th>\n",
       "      <th>duration</th>\n",
       "      <th>item</th>\n",
       "      <th>month</th>\n",
       "      <th>network</th>\n",
       "      <th>network_type</th>\n",
       "    </tr>\n",
       "  </thead>\n",
       "  <tbody>\n",
       "    <tr>\n",
       "      <th>0</th>\n",
       "      <td>15-10-14 6:58</td>\n",
       "      <td>221.321120</td>\n",
       "      <td>data</td>\n",
       "      <td>2014-11</td>\n",
       "      <td>data</td>\n",
       "      <td>data</td>\n",
       "    </tr>\n",
       "    <tr>\n",
       "      <th>1</th>\n",
       "      <td>15-10-14 6:58</td>\n",
       "      <td>81.610599</td>\n",
       "      <td>call</td>\n",
       "      <td>2014-11</td>\n",
       "      <td>Vodafone</td>\n",
       "      <td>mobile</td>\n",
       "    </tr>\n",
       "    <tr>\n",
       "      <th>2</th>\n",
       "      <td>15-10-14 14:46</td>\n",
       "      <td>143.109111</td>\n",
       "      <td>call</td>\n",
       "      <td>2014-11</td>\n",
       "      <td>Meteor</td>\n",
       "      <td>mobile</td>\n",
       "    </tr>\n",
       "    <tr>\n",
       "      <th>3</th>\n",
       "      <td>15-10-14 14:48</td>\n",
       "      <td>111.888670</td>\n",
       "      <td>call</td>\n",
       "      <td>2014-11</td>\n",
       "      <td>Tesco</td>\n",
       "      <td>mobile</td>\n",
       "    </tr>\n",
       "    <tr>\n",
       "      <th>4</th>\n",
       "      <td>15-10-14 17:27</td>\n",
       "      <td>246.695171</td>\n",
       "      <td>call</td>\n",
       "      <td>2014-11</td>\n",
       "      <td>Tesco</td>\n",
       "      <td>mobile</td>\n",
       "    </tr>\n",
       "  </tbody>\n",
       "</table>\n",
       "</div>"
      ],
      "text/plain": [
       "             date    duration  item    month   network network_type\n",
       "0   15-10-14 6:58  221.321120  data  2014-11      data         data\n",
       "1   15-10-14 6:58   81.610599  call  2014-11  Vodafone       mobile\n",
       "2  15-10-14 14:46  143.109111  call  2014-11    Meteor       mobile\n",
       "3  15-10-14 14:48  111.888670  call  2014-11     Tesco       mobile\n",
       "4  15-10-14 17:27  246.695171  call  2014-11     Tesco       mobile"
      ]
     },
     "execution_count": 29,
     "metadata": {},
     "output_type": "execute_result"
    }
   ],
   "source": [
    "# import the dataset\n",
    "df2 = pd.read_csv('phone.csv')\n",
    "df2.head()"
   ]
  },
  {
   "cell_type": "markdown",
   "id": "c87bfc1b",
   "metadata": {},
   "source": [
    "#### a) With 95% & 99% Confidence Interval find the range estimate of average duration calls made by all thenetwork. Which of the Intervals are wider? Interpret the results."
   ]
  },
  {
   "cell_type": "code",
   "execution_count": 30,
   "id": "479b3f2e",
   "metadata": {},
   "outputs": [
    {
     "name": "stdout",
     "output_type": "stream",
     "text": [
      "For 95% confidence interval the range estimate is [141.18 147.43]\n",
      "for 99% confidence interval the range estimate is [140.2  148.41]\n"
     ]
    }
   ],
   "source": [
    "n = len(df2['duration'])\n",
    "avg = df2['duration'].mean()\n",
    "std = df2['duration'].std()\n",
    "interval95 = stats.norm.interval(0.95, loc = avg, scale = std/np.sqrt(n))\n",
    "print('For 95% confidence interval the range estimate is', np.round(interval95,2))\n",
    "interval99 = stats.norm.interval(0.99, loc = avg, scale = std/np.sqrt(n))\n",
    "print('for 99% confidence interval the range estimate is', np.round(interval99,2))"
   ]
  },
  {
   "cell_type": "code",
   "execution_count": 31,
   "id": "630effa1",
   "metadata": {},
   "outputs": [
    {
     "name": "stdout",
     "output_type": "stream",
     "text": [
      "6.2541916620104985\n",
      "8.219401111494562\n"
     ]
    }
   ],
   "source": [
    "print(interval95[1] - interval95[0])\n",
    "print(interval99[1] - interval99[0])\n"
   ]
  },
  {
   "cell_type": "markdown",
   "id": "309592bc",
   "metadata": {},
   "source": [
    "#### b) Perform statistical analysis to check whether the networks are equally distributed in the dataset"
   ]
  },
  {
   "cell_type": "code",
   "execution_count": 32,
   "id": "fc024e70",
   "metadata": {},
   "outputs": [
    {
     "data": {
      "text/plain": [
       "3.080215745168048"
      ]
     },
     "execution_count": 32,
     "metadata": {},
     "output_type": "execute_result"
    }
   ],
   "source": [
    "# Chi Square Critical Value\n",
    "stats.chi.ppf(0.95, 4)"
   ]
  },
  {
   "cell_type": "code",
   "execution_count": 33,
   "id": "bb585547",
   "metadata": {},
   "outputs": [],
   "source": [
    "freq = df2['network'].value_counts().tolist()\n",
    "\n",
    "network = df2['network'].unique().tolist()\n",
    "Users = freq                            # Observed Values\n",
    "exp_freq = np.sum(Users)/len(network)\n",
    "\n"
   ]
  },
  {
   "cell_type": "code",
   "execution_count": 34,
   "id": "57e05385",
   "metadata": {},
   "outputs": [
    {
     "name": "stdout",
     "output_type": "stream",
     "text": [
      "307.409756097561\n"
     ]
    }
   ],
   "source": [
    "teststats = np.sum((Users-exp_freq)**2)/exp_freq\n",
    "print(teststats)\n",
    "\n",
    "# If the Test Statistic > Critical Value, Then We Reject the Ho.\n",
    "# If the Test Statistic < Critical Value, Then We Fail to Reject the Ho.\n",
    "# As per the Rule We Reject the Ho meaning that the Count of networks are not equally distributed."
   ]
  },
  {
   "cell_type": "markdown",
   "id": "1501c9f4",
   "metadata": {},
   "source": [
    "#### c) Plot the distribution of duration with respect to each network in the same graph and Interpret the results fromthe graph."
   ]
  },
  {
   "cell_type": "code",
   "execution_count": 35,
   "id": "6bf738f8",
   "metadata": {},
   "outputs": [
    {
     "data": {
      "text/plain": [
       "<AxesSubplot:xlabel='network', ylabel='duration'>"
      ]
     },
     "execution_count": 35,
     "metadata": {},
     "output_type": "execute_result"
    },
    {
     "data": {
      "image/png": "[encoded data removed]",
      "text/plain": [
       "<Figure size 432x288 with 1 Axes>"
      ]
     },
     "metadata": {
      "needs_background": "light"
     },
     "output_type": "display_data"
    }
   ],
   "source": [
    "sns.boxplot(df2['network'] ,df2['duration'])"
   ]
  },
  {
   "cell_type": "code",
   "execution_count": 36,
   "id": "cefe0d67",
   "metadata": {},
   "outputs": [],
   "source": [
    "# Vodafone has higher duration distribution with range between 50 and 250 \n",
    "# and landline has lowest duration distribution with range between 60 and 230"
   ]
  },
  {
   "cell_type": "markdown",
   "id": "88113712",
   "metadata": {},
   "source": [
    "#### d) Perform statistical tests to identify the relation between item and duration. Detailed explanation of relationbetween the classes is required."
   ]
  },
  {
   "cell_type": "code",
   "execution_count": 74,
   "id": "182063fd",
   "metadata": {},
   "outputs": [
    {
     "name": "stdout",
     "output_type": "stream",
     "text": [
      "P-value for anova is: 0.1456068656611744\n"
     ]
    }
   ],
   "source": [
    "# f_oneway() function takes the group data as input and\n",
    "# returns F_statistics and P-value\n",
    "from scipy.stats import f_oneway\n",
    "\n",
    "# running the one-way anova test between  item and duration \n",
    "# assumption (Ho) is that item and duration are not correlated\n",
    "\n",
    "# finds out the prices data for each FuelType as a list\n",
    "CategoryGroupLists=df2.groupby('item')['duration'].apply(list)\n",
    "# performing the annova test\n",
    "AnovaResults=f_oneway(*CategoryGroupLists)\n",
    "print(\"P-value for anova is:\",AnovaResults[1])\n",
    "# we accept the assumption(Ho) only when P-value >0.05"
   ]
  },
  {
   "cell_type": "code",
   "execution_count": null,
   "id": "b452b019",
   "metadata": {},
   "outputs": [],
   "source": [
    "# Hence we accept the assumption that item and duration are related"
   ]
  },
  {
   "cell_type": "markdown",
   "id": "ce23d568",
   "metadata": {},
   "source": [
    "#### e) Perform statistical tests to identify the relation between network and network_type."
   ]
  },
  {
   "cell_type": "code",
   "execution_count": 64,
   "id": "34ce00c1",
   "metadata": {},
   "outputs": [
    {
     "data": {
      "text/html": [
       "<div>\n",
       "<style scoped>\n",
       "    .dataframe tbody tr th:only-of-type {\n",
       "        vertical-align: middle;\n",
       "    }\n",
       "\n",
       "    .dataframe tbody tr th {\n",
       "        vertical-align: top;\n",
       "    }\n",
       "\n",
       "    .dataframe thead th {\n",
       "        text-align: right;\n",
       "    }\n",
       "</style>\n",
       "<table border=\"1\" class=\"dataframe\">\n",
       "  <thead>\n",
       "    <tr style=\"text-align: right;\">\n",
       "      <th></th>\n",
       "      <th>network</th>\n",
       "      <th>network_type</th>\n",
       "    </tr>\n",
       "  </thead>\n",
       "  <tbody>\n",
       "    <tr>\n",
       "      <th>0</th>\n",
       "      <td>data</td>\n",
       "      <td>data</td>\n",
       "    </tr>\n",
       "    <tr>\n",
       "      <th>1</th>\n",
       "      <td>Vodafone</td>\n",
       "      <td>mobile</td>\n",
       "    </tr>\n",
       "    <tr>\n",
       "      <th>2</th>\n",
       "      <td>Meteor</td>\n",
       "      <td>mobile</td>\n",
       "    </tr>\n",
       "    <tr>\n",
       "      <th>3</th>\n",
       "      <td>Tesco</td>\n",
       "      <td>mobile</td>\n",
       "    </tr>\n",
       "    <tr>\n",
       "      <th>4</th>\n",
       "      <td>Tesco</td>\n",
       "      <td>mobile</td>\n",
       "    </tr>\n",
       "  </tbody>\n",
       "</table>\n",
       "</div>"
      ],
      "text/plain": [
       "    network network_type\n",
       "0      data         data\n",
       "1  Vodafone       mobile\n",
       "2    Meteor       mobile\n",
       "3     Tesco       mobile\n",
       "4     Tesco       mobile"
      ]
     },
     "execution_count": 64,
     "metadata": {},
     "output_type": "execute_result"
    }
   ],
   "source": [
    "new_df = df2[['network','network_type']].copy()\n",
    "new_df.head()"
   ]
  },
  {
   "cell_type": "code",
   "execution_count": 69,
   "id": "3e0ebad0",
   "metadata": {},
   "outputs": [
    {
     "name": "stdout",
     "output_type": "stream",
     "text": [
      "network_type  data  landline  mobile  voicemail\n",
      "network                                        \n",
      "Meteor           0         0      87          0\n",
      "Tesco            0         0      84          0\n",
      "Three            0         0     215          0\n",
      "Vodafone         0         0     215          0\n",
      "data           150         0       0          0\n",
      "landline         0        42       0          0\n",
      "voicemail        0         0       0         27\n"
     ]
    }
   ],
   "source": [
    "# cross tabulation between network and network_type\n",
    "CrosstabResult=pd.crosstab(index=new_df['network'],columns=new_df['network_type'])\n",
    "print(CrosstabResult)"
   ]
  },
  {
   "cell_type": "code",
   "execution_count": 72,
   "id": "e287b0da",
   "metadata": {},
   "outputs": [
    {
     "name": "stdout",
     "output_type": "stream",
     "text": [
      "The p-value of the ChiSq Test is: 0.0\n"
     ]
    }
   ],
   "source": [
    "# importing the required function\n",
    "from scipy.stats import chi2_contingency\n",
    "# performing chi-sq test\n",
    "ChiSqResult=chi2_contingency(CrosstabResult)\n",
    "\n",
    "# p-value is the probability of Ho being True\n",
    "# if- P- value >0.05 then only we accept the assumption (Ho)\n",
    "print(\"The p-value of the ChiSq Test is:\",ChiSqResult[1])"
   ]
  },
  {
   "cell_type": "code",
   "execution_count": null,
   "id": "437deff2",
   "metadata": {},
   "outputs": [],
   "source": [
    "# we are fail to accept the assumption because p-value<0.05"
   ]
  }
 ],
 "metadata": {
  "kernelspec": {
   "display_name": "Python 3 (ipykernel)",
   "language": "python",
   "name": "python3"
  },
  "language_info": {
   "codemirror_mode": {
    "name": "ipython",
    "version": 3
   },
   "file_extension": ".py",
   "mimetype": "text/x-python",
   "name": "python",
   "nbconvert_exporter": "python",
   "pygments_lexer": "ipython3",
   "version": "3.9.12"
  }
 },
 "nbformat": 4,
 "nbformat_minor": 5
}
